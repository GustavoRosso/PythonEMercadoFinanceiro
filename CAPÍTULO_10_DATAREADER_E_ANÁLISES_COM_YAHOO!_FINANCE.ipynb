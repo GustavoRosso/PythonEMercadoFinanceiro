{
  "nbformat": 4,
  "nbformat_minor": 0,
  "metadata": {
    "colab": {
      "provenance": [],
      "toc_visible": true,
      "authorship_tag": "ABX9TyN1es8y6Meu5eFu1JXx58tm",
      "include_colab_link": true
    },
    "kernelspec": {
      "name": "python3",
      "display_name": "Python 3"
    },
    "language_info": {
      "name": "python"
    }
  },
  "cells": [
    {
      "cell_type": "markdown",
      "metadata": {
        "id": "view-in-github",
        "colab_type": "text"
      },
      "source": [
        "<a href=\"https://colab.research.google.com/github/GustavoRosso/PythonEMercadoFinanceiro/blob/main/CAP%C3%8DTULO_10_DATAREADER_E_AN%C3%81LISES_COM_YAHOO!_FINANCE.ipynb\" target=\"_parent\"><img src=\"https://colab.research.google.com/assets/colab-badge.svg\" alt=\"Open In Colab\"/></a>"
      ]
    },
    {
      "cell_type": "markdown",
      "source": [
        "#CAPÍTULO 10 - DATAREADER E ANÁLISES COM YAHOO! FINANCE"
      ],
      "metadata": {
        "id": "lPO8eOeNzk0J"
      }
    },
    {
      "cell_type": "markdown",
      "source": [
        "#Explicação"
      ],
      "metadata": {
        "id": "LDZm6VgYqRIp"
      }
    },
    {
      "cell_type": "markdown",
      "source": [
        "##10.3 CÁLCULOS COM JANELAS MÓVEIS (ROLLING METHOD) - Explicação\n"
      ],
      "metadata": {
        "id": "oUA5qpbezyQz"
      }
    },
    {
      "cell_type": "code",
      "source": [
        "pip install pandas_datareader"
      ],
      "metadata": {
        "colab": {
          "base_uri": "https://localhost:8080/"
        },
        "id": "a01Ax2ia1A6X",
        "outputId": "b80cbdf9-5d82-41e6-8b7b-aa38b5f8a1ec"
      },
      "execution_count": 2,
      "outputs": [
        {
          "output_type": "stream",
          "name": "stdout",
          "text": [
            "Requirement already satisfied: pandas_datareader in /usr/local/lib/python3.10/dist-packages (0.10.0)\n",
            "Requirement already satisfied: lxml in /usr/local/lib/python3.10/dist-packages (from pandas_datareader) (4.9.3)\n",
            "Requirement already satisfied: pandas>=0.23 in /usr/local/lib/python3.10/dist-packages (from pandas_datareader) (1.5.3)\n",
            "Requirement already satisfied: requests>=2.19.0 in /usr/local/lib/python3.10/dist-packages (from pandas_datareader) (2.31.0)\n",
            "Requirement already satisfied: python-dateutil>=2.8.1 in /usr/local/lib/python3.10/dist-packages (from pandas>=0.23->pandas_datareader) (2.8.2)\n",
            "Requirement already satisfied: pytz>=2020.1 in /usr/local/lib/python3.10/dist-packages (from pandas>=0.23->pandas_datareader) (2023.3.post1)\n",
            "Requirement already satisfied: numpy>=1.21.0 in /usr/local/lib/python3.10/dist-packages (from pandas>=0.23->pandas_datareader) (1.23.5)\n",
            "Requirement already satisfied: charset-normalizer<4,>=2 in /usr/local/lib/python3.10/dist-packages (from requests>=2.19.0->pandas_datareader) (3.2.0)\n",
            "Requirement already satisfied: idna<4,>=2.5 in /usr/local/lib/python3.10/dist-packages (from requests>=2.19.0->pandas_datareader) (3.4)\n",
            "Requirement already satisfied: urllib3<3,>=1.21.1 in /usr/local/lib/python3.10/dist-packages (from requests>=2.19.0->pandas_datareader) (2.0.4)\n",
            "Requirement already satisfied: certifi>=2017.4.17 in /usr/local/lib/python3.10/dist-packages (from requests>=2.19.0->pandas_datareader) (2023.7.22)\n",
            "Requirement already satisfied: six>=1.5 in /usr/local/lib/python3.10/dist-packages (from python-dateutil>=2.8.1->pandas>=0.23->pandas_datareader) (1.16.0)\n"
          ]
        }
      ]
    },
    {
      "cell_type": "code",
      "execution_count": null,
      "metadata": {
        "id": "AR0qElGkzOLE"
      },
      "outputs": [],
      "source": [
        "# 10.3 CÁLCULOS COM JANELAS MÓVEIS (ROLLING METHOD) - Explicação\n",
        "# Servidor Yahoo está fora\n",
        "\n",
        "################################################################\n",
        "#                                                              #\n",
        "#  ANTES DE RODAR A PRIMEIRA VEZ PRECISA INSTALAR A BIBLIOTECA #\n",
        "#        pip install pandas_datareader                         #\n",
        "#                                                              #\n",
        "################################################################\n",
        "\n",
        "import matplotlib.pyplot as fig\n",
        "import datetime as dt\n",
        "import pandas_datareader.data as web\n",
        "\n",
        "inicio = dt.datetime(2015,1,1)\n",
        "fim = dt.datetime(2019,11,24)\n",
        "df = web.DataReader('^BVSP','yahoo',inicio,fim)\n",
        "df['Close'].plot(color='K',lw=2,alpha=0.6)\n",
        "df['med_mov'] = df['Close'].rolling(window=150,min_periods=0).mean()\n",
        "df['med_mov'] .plot(color='k',lw=3,style='--')\n",
        "\n",
        "fig.grid()\n",
        "fig.title('Ibovespa (2015-2019)',fontsize=18,weight='bold')\n",
        "fig.legend('Ibovespa','Média Móvel 150 dias')"
      ]
    },
    {
      "cell_type": "markdown",
      "source": [
        "##10.4 VISUALIZAÇÃO COM CANDLESTICK DA BIBLIOTECA MPL_FINANCE - Explicação 1\n"
      ],
      "metadata": {
        "id": "9ZyfkaT1z3mr"
      }
    },
    {
      "cell_type": "code",
      "source": [
        "pip install MPL-FINANCE"
      ],
      "metadata": {
        "colab": {
          "base_uri": "https://localhost:8080/"
        },
        "id": "z9u6ufGx1F5t",
        "outputId": "4f7c288e-0de5-427c-f1af-b37182334784"
      },
      "execution_count": 4,
      "outputs": [
        {
          "output_type": "stream",
          "name": "stdout",
          "text": [
            "Collecting MPL-FINANCE\n",
            "  Downloading mpl_finance-0.10.1-py3-none-any.whl (8.4 kB)\n",
            "Requirement already satisfied: matplotlib in /usr/local/lib/python3.10/dist-packages (from MPL-FINANCE) (3.7.1)\n",
            "Requirement already satisfied: contourpy>=1.0.1 in /usr/local/lib/python3.10/dist-packages (from matplotlib->MPL-FINANCE) (1.1.0)\n",
            "Requirement already satisfied: cycler>=0.10 in /usr/local/lib/python3.10/dist-packages (from matplotlib->MPL-FINANCE) (0.11.0)\n",
            "Requirement already satisfied: fonttools>=4.22.0 in /usr/local/lib/python3.10/dist-packages (from matplotlib->MPL-FINANCE) (4.42.1)\n",
            "Requirement already satisfied: kiwisolver>=1.0.1 in /usr/local/lib/python3.10/dist-packages (from matplotlib->MPL-FINANCE) (1.4.5)\n",
            "Requirement already satisfied: numpy>=1.20 in /usr/local/lib/python3.10/dist-packages (from matplotlib->MPL-FINANCE) (1.23.5)\n",
            "Requirement already satisfied: packaging>=20.0 in /usr/local/lib/python3.10/dist-packages (from matplotlib->MPL-FINANCE) (23.1)\n",
            "Requirement already satisfied: pillow>=6.2.0 in /usr/local/lib/python3.10/dist-packages (from matplotlib->MPL-FINANCE) (9.4.0)\n",
            "Requirement already satisfied: pyparsing>=2.3.1 in /usr/local/lib/python3.10/dist-packages (from matplotlib->MPL-FINANCE) (3.1.1)\n",
            "Requirement already satisfied: python-dateutil>=2.7 in /usr/local/lib/python3.10/dist-packages (from matplotlib->MPL-FINANCE) (2.8.2)\n",
            "Requirement already satisfied: six>=1.5 in /usr/local/lib/python3.10/dist-packages (from python-dateutil>=2.7->matplotlib->MPL-FINANCE) (1.16.0)\n",
            "Installing collected packages: MPL-FINANCE\n",
            "Successfully installed MPL-FINANCE-0.10.1\n"
          ]
        }
      ]
    },
    {
      "cell_type": "code",
      "source": [
        "# 10.4 VISUALIZAÇÃO COM CANDLESTICK DA BIBLIOTECA MPL_FINANCE - Explicação 1\n",
        "# Servidor Yahoo está fora\n",
        "\n",
        "################################################################\n",
        "#                                                              #\n",
        "#  ANTES DE RODAR A PRIMEIRA VEZ PRECISA INSTALAR A BIBLIOTECA #\n",
        "#     >> pip install pandas_datareader                         #\n",
        "#     Para usar o candles precisa instalar o mpl_finance:      #\n",
        "#     >> pip install MPL-FINANCE                               #\n",
        "################################################################\n",
        "\n",
        "import matplotlib.pyplot as fig\n",
        "import datetime as dt\n",
        "from mpl_finance import candlestick_ohlc\n",
        "import matplotlib.dates as mdates\n",
        "import pandas_datareader.data as web\n",
        "\n",
        "inicio = dt.datetime(2019,1,1)\n",
        "fim = dt.datetime(2019,11,27)\n",
        "df = web.DataReader('^bvsp','yahoo',inicio,fim)\n",
        "#++++++++++++ Amostragem para os candles ++++++++++++++++++++++++++++\n",
        "df_ohlc = df['Close'].resample('7D').ohlc()\n",
        "df_ohlc.reset_index(inplace = True)\n",
        "df_ohlc['Date'] = df_ohlc['Date'].map(mdates.date2num)\n",
        "\n",
        "ax1 = fig.subplot(111)\n",
        "\n",
        "ax1.xaxis_date()\n",
        "\n",
        "candlestick_ohlc(ax1,df_ohlc.values, width=2, colorup=2, colordown='gray')\n",
        "ax1.set_xlabel('DATA',fontsize=16)\n",
        "ax1.set_ylabel('IBOVESPA',fontsize=16)\n",
        "fig.grid()"
      ],
      "metadata": {
        "id": "Q4Qx_BnPz-W3"
      },
      "execution_count": null,
      "outputs": []
    },
    {
      "cell_type": "markdown",
      "source": [
        "##10.4 VISUALIZAÇÃO COM CANDLESTICK DA BIBLIOTECA MPL_FINANCE - Explicação 2\n"
      ],
      "metadata": {
        "id": "Sp1kX9qX0FU7"
      }
    },
    {
      "cell_type": "code",
      "source": [
        "# 10.4 VISUALIZAÇÃO COM CANDLESTICK DA BIBLIOTECA MPL_FINANCE - Explicação 2\n",
        "# Servidor Yahoo está fora\n",
        "\n",
        "################################################################\n",
        "#                                                              #\n",
        "#  ANTES DE RODAR A PRIMEIRA VEZ PRECISA INSTALAR A BIBLIOTECA #\n",
        "#     >> pip install pandas_datareader                         #\n",
        "#     Para usar o candles precisa instalar o mpl_finance:      #\n",
        "#     >> pip install MPL-FINANCE                               #\n",
        "################################################################\n",
        "\n",
        "import matplotlib.pyplot as fig\n",
        "import datetime as dt\n",
        "from mpl_finance import candlestick_ohlc\n",
        "import matplotlib.dates as mdates\n",
        "import pandas_datareader.data as web\n",
        "\n",
        "inicio = dt.datetime(2019,1,1)\n",
        "fim = dt.datetime(2019,11,27)\n",
        "df = web.DataReader('^bvsp','yahoo',inicio,fim)\n",
        "#++++++++++++ Amostragem para os candles ++++++++++++++++++++++++++++\n",
        "df_ohlc = df['Close'].resample('7D').ohlc()\n",
        "df_ohlc.reset_index(inplace = True)\n",
        "df_ohlc['Date'] = df_ohlc['Date'].map(mdates.date2num)\n",
        "df['med_mov'] = df['Close'].rolling(window=20,min_periods=0).mean()\n",
        "ax1 = fig.subplot(111)\n",
        "\n",
        "ax1.xaxis_date()\n",
        "\n",
        "candlestick_ohlc(ax1,df_ohlc.values, width=2, colorup='k', colordown='gray')\n",
        "ax1.plot(df.index,df['med_mov'],color='k')\n",
        "ax1.set_xlabel('DATA',fontsize=16)\n",
        "ax1.set_ylabel('IBOVESPA',fontsize=16)"
      ],
      "metadata": {
        "id": "dGYSM5VK0IpA"
      },
      "execution_count": null,
      "outputs": []
    },
    {
      "cell_type": "markdown",
      "source": [
        "##10.4 VISUALIZAÇÃO COM CANDLESTICK DA BIBLIOTECA MPL_FINANCE - Explicação 3"
      ],
      "metadata": {
        "id": "a14zBvim0NHa"
      }
    },
    {
      "cell_type": "code",
      "source": [
        "# 10.4 VISUALIZAÇÃO COM CANDLESTICK DA BIBLIOTECA MPL_FINANCE - Explicação 3\n",
        "# Servidor Yahoo está fora\n",
        "\n",
        "################################################################\n",
        "#                                                              #\n",
        "#  ANTES DE RODAR A PRIMEIRA VEZ PRECISA INSTALAR A BIBLIOTECA #\n",
        "#     >> pip install pandas_datareader                         #\n",
        "#     Para usar o candles precisa instalar o mpl_finance:      #\n",
        "#     >> pip install MPL-FINANCE                               #\n",
        "################################################################\n",
        "\n",
        "import numpy as np\n",
        "import matplotlib.pyplot as fig\n",
        "import datetime as dt\n",
        "from mpl_finance import candlestick_ohlc\n",
        "import matplotlib.dates as mdates\n",
        "import pandas as pd\n",
        "import pandas_datareader.data as web\n",
        "import matplotlib.mlab as mlab\n",
        "\n",
        "\n",
        "inicio = dt.datetime(2019,1,1)\n",
        "fim = dt.datetime(2019,11,27)\n",
        "df = web.DataReader('^bvsp','yahoo',inicio,fim)\n",
        "\n",
        "lin = df['Close'].count()\n",
        "x = np.zeros(lin)\n",
        "for i in range(lin):\n",
        "    x[i] = df['Close'][i]\n",
        "\n",
        "retorno = (x[1:lin]-x[0:lin-1])/x[0:lin-1]\n",
        "df2 = pd.Dataframe(columns=[])\n",
        "df2['Retorno'] = retorno\n",
        "#+++++++++++++++++++++++++ Histograma +++++++++++++++++++++++++++++++\n",
        "ax3 = fig.subplot(223)\n",
        "[n,bins,patches]= ax3.hist(retorno,bins=30,normed=True)\n",
        "mu = np.mean(retorno)\n",
        "sigma = np.std(retorno)\n",
        "dist_norm = mlab.normpdf(bins,mu,sigma)\n",
        "ax3.plot(bins,dist_norm)\n",
        "ax3.set_title('Histograma dos retornos', fontsize =16)\n",
        "#+++++++++++++++++++++ BOX-PLOT +++++++++++++++++++++++++++++++++++++\n",
        "ax4 = fig.subplot(224)\n",
        "for i in range(len(retorno)):\n",
        "    d = ax4.boxplot(df2.retorno[1+i:20+i],position=[i],\n",
        "                    showfliers=False,patch_artist=True,\n",
        "                    boxprops=dict(facecolor=\"C0\", color=\"C1\"))\n",
        "ax4.set_xlim(0,len(retorno))\n",
        "ax4.set_title('Box-plot dos retornos', fontsize=16)\n",
        "fig.tight_layout()"
      ],
      "metadata": {
        "id": "2g7keGwO0RHT"
      },
      "execution_count": null,
      "outputs": []
    },
    {
      "cell_type": "markdown",
      "source": [
        "##10.5 DADOS COM BIBLIOTECA REQUESTS PARA TICKER-BY-TICKER - Explicação 1\n"
      ],
      "metadata": {
        "id": "s35dk1al0aFx"
      }
    },
    {
      "cell_type": "code",
      "source": [
        "# 10.5 DADOS COM BIBLIOTECA REQUESTS PARA TICKER-BY-TICKER - Explicação 1\n",
        "\n",
        "################################################################\n",
        "#           PRECISA INSTALAR ANTES yahoo_fin\n",
        "#\n",
        "#     >> pip install requests_html\n",
        "#     >> pip install yahoo_fin\n",
        "################################################################\n",
        "\n",
        "from yahoo_fin.stock_info import *\n",
        "import numpy as np\n",
        "import time\n",
        "import matplotlib.pyplot as fig\n",
        "import datetime as dt\n",
        "from mpl_finance import candlestick_ohlc\n",
        "import matplotlib.dates as mdates\n",
        "import pandas as pd\n",
        "import pandas_datareader.data as web\n",
        "import matplotlib.mlab as mlab\n",
        "\n",
        "lin = 10\n",
        "x = np.zeros(lin)\n",
        "\n",
        "for i in range(lin):\n",
        "    x[i] = get_live_price(\"PETR4.SA\")\n",
        "    print(i,round(x[i],2))\n",
        "    time.sleep(5)"
      ],
      "metadata": {
        "id": "MGM9muEf0dPx"
      },
      "execution_count": null,
      "outputs": []
    },
    {
      "cell_type": "markdown",
      "source": [
        "##10.5 DADOS COM BIBLIOTECA REQUESTS PARA TICKER-BY-TICKER - Explicação 2\n"
      ],
      "metadata": {
        "id": "TdJGSTuC0hJ9"
      }
    },
    {
      "cell_type": "code",
      "source": [
        "# 10.5 DADOS COM BIBLIOTECA REQUESTS PARA TICKER-BY-TICKER - Explicação 2\n",
        "\n",
        "################################################################\n",
        "#           PRECISA INSTALAR ANTES yahoo_fin\n",
        "#\n",
        "#     >> pip install requests_html\n",
        "#     >> pip install yahoo_fin\n",
        "################################################################\n",
        "\n",
        "from yahoo_fin.stock_info import *\n",
        "import numpy as np\n",
        "import time\n",
        "import matplotlib.pyplot as fig\n",
        "import datetime as dt\n",
        "from mpl_finance import candlestick_ohlc\n",
        "import matplotlib.dates as mdates\n",
        "import pandas as pd\n",
        "import pandas_datareader.data as web\n",
        "import matplotlib.mlab as mlab\n",
        "\n",
        "lin = 50\n",
        "x = np.zeros(lin)\n",
        "y = np.zeros(lin)\n",
        "xar = []\n",
        "yar = []\n",
        "\n",
        "fig.style.use('ggplot')\n",
        "figura = fig.figure()\n",
        "\n",
        "ax1_din = fig.subplot(211)\n",
        "ax2_din = fig.subplot(212)\n",
        "\n",
        "for i in range(lin):\n",
        "    x[i] = get_live_price(\"PETR4.SA\")\n",
        "    y[i] = get_live_price(\"USIM5.SA\")\n",
        "    print(i,round(x[i],2), round(y[i],2))\n",
        "    xar.append(x[i])\n",
        "    yar.append(y[i])\n",
        "    ax1_din.plot(xar,'k')\n",
        "    ax2_din.plot(yar,'k')\n",
        "    fig.pause(0.5)\n",
        "    time.sleep(10)\n",
        "\n",
        "    ax1_din.set_title('PETR4')\n",
        "    ax2_din.set_title('USIM5')"
      ],
      "metadata": {
        "id": "gFsTi8PU0ho1"
      },
      "execution_count": null,
      "outputs": []
    },
    {
      "cell_type": "markdown",
      "source": [
        "#Exemplos"
      ],
      "metadata": {
        "id": "895ch5jjsFtT"
      }
    },
    {
      "cell_type": "markdown",
      "source": [
        "##Exemplo  10.1"
      ],
      "metadata": {
        "id": "39mCeJDrsWxJ"
      }
    },
    {
      "cell_type": "code",
      "source": [
        "# Exemplo 10.1\n",
        "# Servidor Yahoo está fora\n",
        "\n",
        "################################################################\n",
        "#                                                              #\n",
        "#  ANTES DE RODAR A PRIMEIRA VEZ PRECISA INSTALAR A BIBLIOTECA #\n",
        "#        pip install pandas_datareader                         #\n",
        "#                                                              #\n",
        "################################################################\n",
        "\n",
        "import matplotlib.pyplot as fig\n",
        "import datetime as dt\n",
        "import pandas_datareader.data as web\n",
        "\n",
        "\n",
        "inicio = dt.datetime(2019,1,1)\n",
        "fim = dt.datetime(2019,11,24)\n",
        "df = web.DataReader('PETR4.SA', 'yahoo', inicio, fim)\n",
        "df['Close'].plot(color = 'k',lw = 4)\n",
        "fig.grid()\n",
        "fig.title('PETR4 (Jan - Nov / 2019)',fontsize = 18, weight= 'bold')"
      ],
      "metadata": {
        "id": "SFnLOPtg02M3"
      },
      "execution_count": 5,
      "outputs": []
    },
    {
      "cell_type": "markdown",
      "source": [
        "##Exemplo  10.2"
      ],
      "metadata": {
        "id": "OccgzXwL1UYV"
      }
    },
    {
      "cell_type": "code",
      "source": [
        "# Exemplo 10.2\n",
        "# Servidor Yahoo está fora\n",
        "\n",
        "################################################################\n",
        "#                                                              #\n",
        "#  ANTES DE RODAR A PRIMEIRA VEZ PRECISA INSTALAR A BIBLIOTECA #\n",
        "#        pip install pandas_datareader                         #\n",
        "#                                                              #\n",
        "################################################################\n",
        "\n",
        "import matplotlib.pyplot as fig\n",
        "import datetime as dt\n",
        "import pandas_datareader.data as web\n",
        "\n",
        "\n",
        "inicio = dt.datetime(2019,1,1)\n",
        "fim = dt.datetime(2019,11,24)\n",
        "df = web.DataReader('^bvsp', 'yahoo', inicio, fim)\n",
        "df['Close'].plot(color = 'k',lw = 4)\n",
        "fig.grid()\n",
        "fig.title('IBOVESPA (Jan - Nov / 2019)',fontsize = 18, weight= 'bold')"
      ],
      "metadata": {
        "id": "Kf1znq1L05kV"
      },
      "execution_count": null,
      "outputs": []
    },
    {
      "cell_type": "markdown",
      "source": [
        "##Exemplo  10.3"
      ],
      "metadata": {
        "id": "jnZO1SwY1a1N"
      }
    },
    {
      "cell_type": "code",
      "source": [
        "# Exemplo 10.3\n",
        "# Servidor Yahoo está fora\n",
        "\n",
        "################################################################\n",
        "#                                                              #\n",
        "#  ANTES DE RODAR A PRIMEIRA VEZ PRECISA INSTALAR A BIBLIOTECA #\n",
        "#        pip install pandas_datareader                         #\n",
        "#                                                              #\n",
        "################################################################\n",
        "\n",
        "import datetime as dt\n",
        "import pandas_datareader.data as web\n",
        "import seaborn as sns\n",
        "\n",
        "inicio = dt.datetime(2019,1,1)\n",
        "fim = dt.datetime(2019,11,24)\n",
        "df1 = web.DataReader('GGBR4.SA', 'yahoo', inicio, fim)\n",
        "df1['Data'] = df1.index\n",
        "df2 = web.DataReader('PETR4.SA', 'yahoo', inicio, fim)\n",
        "df2['Data'] = df2.index\n",
        "\n",
        "dados = sns.regplot(df1['Close'],df2['Close'],color= 'black')\n",
        "dados.set_xlabel('GGBR4', fontsize = 16)\n",
        "dados.set_ylabel('PETR4', fontsize = 16)\n",
        "\n",
        "dad_cond = sns.jointplot(df1['Close'], df2['Close'], kind = 'scatter', color = 'black')\n",
        "dad_cond.set_axis_labels('GGBR4','PETR4', fontsize = 16)"
      ],
      "metadata": {
        "id": "-e3oU0nD1b0v"
      },
      "execution_count": null,
      "outputs": []
    },
    {
      "cell_type": "markdown",
      "source": [
        "##Exemplo  10.4"
      ],
      "metadata": {
        "id": "6tDjJqm91qIj"
      }
    },
    {
      "cell_type": "code",
      "source": [
        "# Exemplo 10.4\n",
        "# Servidor Yahoo está fora\n",
        "\n",
        "import datetime as dt\n",
        "import pandas_datareader.data as web\n",
        "import matplotlib.pyplot as fig\n",
        "\n",
        "inicio = dt.datetime(2019,1,1)\n",
        "fim = dt.datetime(2019,11,24)\n",
        "acoes = ['GGBR4.SA','BBAS3.SA','PETR4.SA','USIM5.SA','ITUB4.SA']\n",
        "df = web.DataReader(acoes, 'yahoo', inicio, fim)\n",
        "df['Data'] = df.index\n",
        "\n",
        "dados = df['Close'].plot(style=['-','--','-o','-*','-d'],color='k',lw=1)\n",
        "dados.set_xlabel('Data',fontsize=16)\n",
        "dados.set_ylabel('Ações',fontsize=16)\n",
        "fig.grid()\n",
        "fig.title('AÇÕES (Jan-Nov / 2019)',fontsize = 18, weight = 'bold')"
      ],
      "metadata": {
        "id": "ZoEpb8NU1rMV"
      },
      "execution_count": null,
      "outputs": []
    },
    {
      "cell_type": "markdown",
      "source": [
        "##Exemplo  10.5"
      ],
      "metadata": {
        "id": "vVqlpNZk1vnJ"
      }
    },
    {
      "cell_type": "code",
      "source": [
        "# Exemplo 10.5\n",
        "# Servidor Yahoo está fora\n",
        "# Matrix scatter histograma 'kde'\n",
        "\n",
        "import datetime as dt\n",
        "import pandas_datareader.data as web\n",
        "import pandas as pd\n",
        "\n",
        "inicio = dt.datetime(2019,1,1)\n",
        "fim = dt.datetime(2019,11,24)\n",
        "acoes = ['GGBR4.SA','BBAS3.SA','PETR4.SA','USIM5.SA','ITUB4.SA']\n",
        "df = web.DataReader(acoes, 'yahoo', inicio, fim)\n",
        "retorno = df['Close'].pct_change()\n",
        "pd.plotting.scatter_matrix(retorno,diagonal='kde',alpha=0.8,color='black')"
      ],
      "metadata": {
        "id": "CjAvqnwT1wwf"
      },
      "execution_count": null,
      "outputs": []
    },
    {
      "cell_type": "code",
      "source": [
        "# Matrix scatter 'hist'\n",
        "\n",
        "import datetime as dt\n",
        "import pandas_datareader.data as web\n",
        "import pandas as pd\n",
        "\n",
        "inicio = dt.datetime(2019,1,1)\n",
        "fim = dt.datetime(2019,11,24)\n",
        "acoes = ['GGBR4.SA','BBAS3.SA','PETR4.SA','USIM5.SA','ITUB4.SA']\n",
        "df = web.DataReader(acoes, 'yahoo', inicio, fim)\n",
        "retorno = df['Close'].pct_change()\n",
        "pd.plotting.scatter_matrix(retorno,diagonal='hist',alpha=0.8,color='black')"
      ],
      "metadata": {
        "id": "15zLDZAc10XU"
      },
      "execution_count": null,
      "outputs": []
    },
    {
      "cell_type": "markdown",
      "source": [
        "##Exemplo  10.6"
      ],
      "metadata": {
        "id": "kNMhsN7315PC"
      }
    },
    {
      "cell_type": "code",
      "source": [
        "# Exemplo 10.6\n",
        "# Algoritmo para ajustamento de datas diferentes em arquivos\n",
        "\n",
        "import pandas as pd\n",
        "\n",
        "arq1=pd.Series([2,3,1,5],\n",
        "               index=['1/12/2019','2/12/2019','3/12/2019','4/12/2019'])\n",
        "\n",
        "arq2=pd.Series([20,11,17],\n",
        "               index=['1/12/2019','3/12/2019','4/12/2019'])\n",
        "#+++++++++++++ Pareamento de datas para o mesmo dia +++++++++++++++++\n",
        "intersect = arq2.index.intersection(arq1.index)\n",
        "arq1_mod=arq1.loc[intersect]\n",
        "arq2_mod=arq2.loc[intersect]\n",
        "print('++++++++++++++++++++++++++++++++++++++++++++++')\n",
        "print('Arquivo mod = ')\n",
        "print(arq1_mod)\n",
        "print('++++++++++++++++++++++++++++++++++++++++++++++')\n",
        "print('Arquivo mod = ')\n",
        "print(arq2_mod)"
      ],
      "metadata": {
        "id": "kspa4igP16Gi"
      },
      "execution_count": null,
      "outputs": []
    },
    {
      "cell_type": "markdown",
      "source": [
        "##Exemplo  10.7"
      ],
      "metadata": {
        "id": "S_SaourJ1_yR"
      }
    },
    {
      "cell_type": "code",
      "source": [
        "# Exemplo 10.7\n",
        "# Servidor Yahoo está fora\n",
        "\n",
        "################################################################\n",
        "#                                                              #\n",
        "#  ANTES DE RODAR A PRIMEIRA VEZ PRECISA INSTALAR A BIBLIOTECA #\n",
        "#        pip install pandas_datareader                         #\n",
        "#                                                              #\n",
        "################################################################\n",
        "\n",
        "import datetime as dt\n",
        "import pandas_datareader.data as web\n",
        "import seaborn as sns\n",
        "\n",
        "inicio = dt.datetime(2019,1,1)\n",
        "fim = dt.datetime(2019,11,24)\n",
        "\n",
        "df1 = web.DataReader('^bvsp','yahoo',inicio,fim)\n",
        "df2 = web.DataReader('^dji','yahoo',inicio,fim)\n",
        "#+++++++++++++++++ Pareamento de datas para o mesmo dia +++++++++\n",
        "intersect = df2.index.intersection(df1.index)\n",
        "bov = df1.loc[intersect]\n",
        "dow = df2.loc[intersect]\n",
        "#++++++++++++++++++++++++++++++++++++++++++++++++++++++++++++++++\n",
        "correcao = bov.corrwith(dow, axis = 0)\n",
        "dados = sns.regplot(bov['Close'],dow['Close'],color='black')\n",
        "\n",
        "dados.set_xlabel('IBOVESPA',fontsize=16)\n",
        "dados.set_ylabel('DOW JONES',fontsize=16)\n",
        "dados.set_title('Rgressão Linear Ibovespa x Dow Jones (Jan-Nov)/ 2019',\n",
        "                fontsize=18)\n",
        "print('++++++++++++ Correção ++++++++++++')\n",
        "print(correcao)"
      ],
      "metadata": {
        "id": "l6p4uZ5j2A0k"
      },
      "execution_count": null,
      "outputs": []
    },
    {
      "cell_type": "markdown",
      "source": [
        "##Exemplo  10.8"
      ],
      "metadata": {
        "id": "f5viZKjR2Fjv"
      }
    },
    {
      "cell_type": "code",
      "source": [
        "# Exemplo 10.8\n",
        "# Servidor Yahoo está fora\n",
        "\n",
        "################################################################\n",
        "#                                                              #\n",
        "#  ANTES DE RODAR A PRIMEIRA VEZ PRECISA INSTALAR A BIBLIOTECA #\n",
        "#        pip install pandas_datareader                         #\n",
        "#                                                              #\n",
        "################################################################\n",
        "\n",
        "import datetime as dt\n",
        "import pandas_datareader.data as web\n",
        "import seaborn as sns\n",
        "\n",
        "inicio = dt.datetime(2019,1,1)\n",
        "fim = dt.datetime(2019,11,24)\n",
        "\n",
        "df1 = web.DataReader('^bvsp','yahoo',inicio,fim)\n",
        "df2 = web.DataReader('^dji','yahoo',inicio,fim)\n",
        "#+++++++++++++++++ Pareamento de datas para o mesmo dia +++++++++\n",
        "intersect = df2.index.intersection(df1.index)\n",
        "bov = df1.loc[intersect]\n",
        "dow = df2.loc[intersect]\n",
        "#++++++++++++++++++++++++++++++++++++++++++++++++++++++++++++++++\n",
        "retornoBV = bov['Close'].pct_change()\n",
        "retornoDJ = dow['Close'].pct_change()\n",
        "correlacao = retornoBV.corr(retornoDJ)\n",
        "\n",
        "dados = sns.regplot(bov['Close'],dow['Close'],color='black')\n",
        "\n",
        "dados.set_xlabel('IBOVESPA',fontsize=16)\n",
        "dados.set_ylabel('DOW JONES',fontsize=16)\n",
        "dados.set_title('Rgressão Linear Ibovespa x Dow Jones (Jan-Nov)/ 2019',\n",
        "                fontsize=18)\n",
        "print('++++++++++++ Correção ++++++++++++')\n",
        "print(correlacao)"
      ],
      "metadata": {
        "id": "2GtKT21Z2GjL"
      },
      "execution_count": null,
      "outputs": []
    },
    {
      "cell_type": "markdown",
      "source": [
        "##Exemplo  10.9"
      ],
      "metadata": {
        "id": "9FrP55CV2L8t"
      }
    },
    {
      "cell_type": "code",
      "source": [
        "# Exemplo 10.9\n",
        "# Servidor Yahoo está fora\n",
        "\n",
        "################################################################\n",
        "#                                                              #\n",
        "#  ANTES DE RODAR A PRIMEIRA VEZ PRECISA INSTALAR A BIBLIOTECA #\n",
        "#        pip install pandas_datareader                         #\n",
        "#                                                              #\n",
        "################################################################\n",
        "\n",
        "import datetime as dt\n",
        "import pandas_datareader.data as web\n",
        "import seaborn as sns\n",
        "\n",
        "inicio = dt.datetime(2008,1,1)\n",
        "fim = dt.datetime(2019,11,24)\n",
        "\n",
        "df1 = web.DataReader('CL','yahoo',inicio,fim)\n",
        "df2 = web.DataReader('XOM','yahoo',inicio,fim)\n",
        "#+++++++++++++++++ Pareamento de datas para o mesmo dia +++++++++\n",
        "intersect = df2.index.intersection(df1.index)\n",
        "bov = df1.loc[intersect]\n",
        "dow = df2.loc[intersect]\n",
        "#++++++++++++++++++++++++++++++++++++++++++++++++++++++++++++++++\n",
        "retornoBV = bov['Close'].pct_change()\n",
        "retornoDJ = dow['Close'].pct_change()\n",
        "correlacao = retornoBV.corr(retornoDJ)\n",
        "\n",
        "dados = sns.regplot(bov['Close'],dow['Close'],color='black')\n",
        "\n",
        "dados.set_xlabel('IBOVESPA',fontsize=16)\n",
        "dados.set_ylabel('DOW JONES',fontsize=16)\n",
        "dados.set_title('Rgressão Linear Petróleo x EXXON 2008-2019',\n",
        "                fontsize=18)\n",
        "print('++++++++++++ Correção ++++++++++++')\n",
        "print(correlacao)"
      ],
      "metadata": {
        "id": "FsShpDT-2M2H"
      },
      "execution_count": null,
      "outputs": []
    },
    {
      "cell_type": "markdown",
      "source": [
        "##Exemplo  10.10"
      ],
      "metadata": {
        "id": "I8aSWz9Y2TEC"
      }
    },
    {
      "cell_type": "code",
      "source": [
        "# Exemplo 10.10\n",
        "# Servidor Yahoo está fora\n",
        "\n",
        "################################################################\n",
        "#                                                              #\n",
        "#  ANTES DE RODAR A PRIMEIRA VEZ PRECISA INSTALAR A BIBLIOTECA #\n",
        "#        pip install pandas_datareader                         #\n",
        "#                                                              #\n",
        "################################################################\n",
        "\n",
        "# Explicação 1\n",
        "\n",
        "import matplotlib.pyplot as fig\n",
        "import datetime as dt\n",
        "import pandas_datareader.data as web\n",
        "\n",
        "inicio = dt.datetime(1995,1,1)\n",
        "fim = dt.datetime(2019,11,24)\n",
        "df = web.DataReader('^BVSP','yahoo',inicio,fim)\n",
        "df['Retorno'] = df['Close'].pct_change()\n",
        "df['Retorno'].plot(color='K',lw=2,alpha=0.4)\n",
        "df['std_mov'] = df['Retorno'].rolling(window=10,min_periods=0).std()\n",
        "df['std_mov'] .plot(color='k',lw=3,style='-')\n",
        "\n",
        "fig.grid()\n",
        "fig.title('Retorno financeiro Ibovespa (1995-2019)',fontsize=18,weight='bold')\n",
        "fig.legend(['Ibovespa','Volatilidade (desv.padrão) 10 dias'])"
      ],
      "metadata": {
        "id": "buIe8wN12UH_"
      },
      "execution_count": null,
      "outputs": []
    },
    {
      "cell_type": "code",
      "source": [
        "# Explicação 2\n",
        "\n",
        "################################################################\n",
        "#                                                              #\n",
        "#  ANTES DE RODAR A PRIMEIRA VEZ PRECISA INSTALAR A BIBLIOTECA #\n",
        "#        pip install pandas_datareader                         #\n",
        "#                                                              #\n",
        "################################################################\n",
        "\n",
        "import matplotlib.pyplot as fig\n",
        "import datetime as dt\n",
        "import pandas_datareader.data as web\n",
        "\n",
        "inicio = dt.datetime(1995,1,1)\n",
        "fim = dt.datetime(2019,11,24)\n",
        "df = web.DataReader('^BVSP','yahoo',inicio,fim)\n",
        "df['Retorno'] = df['Close'].pct_change()\n",
        "#df['Retorno'].plot(color='K',lw=2,alpha=0.4)\n",
        "df['med_mov'] = df['Close'].rolling(window=500,min_periods=0).mean()\n",
        "df['std_mov'] = df['Retorno'].rolling(window=10,min_periods=0).std()\n",
        "#df['std_mov'] .plot(color='k',lw=3,style='-')\n",
        "\n",
        "ax = fig.subplot(311)\n",
        "ax.plot(df.index,df['Close'],color='black',alpha=0.5)\n",
        "ax.plot(df.index,df['med_mov'],color='black')\n",
        "ax.set_title('Ibovespa (1995-2019)',fontsize=18,weight='bold')\n",
        "\n",
        "ax = fig.subplot(312)\n",
        "ax.plot(df.index,df['Retorno'],color='black',alpha=0.5)\n",
        "ax.plot(df.index,df['std_mov'],color='black')\n",
        "ax.set_title('Volatilidade retorno Ibovespa (1995-2019)',fontsize=18,weight='bold')\n",
        "fig.tight_layout()\n",
        "ax=fig.suplot(313)\n",
        "ax.bar(df.index,df['Volume'],color='black')\n",
        "ax.set_title('Volume Ibovespa (1995-2019)',fontsize=18,weight='bold')"
      ],
      "metadata": {
        "id": "Mvg6g0QD2ahm"
      },
      "execution_count": null,
      "outputs": []
    },
    {
      "cell_type": "markdown",
      "source": [
        "##Exemplo  10.11"
      ],
      "metadata": {
        "id": "hfx6Mv1m2fQk"
      }
    },
    {
      "cell_type": "code",
      "source": [
        "# Exemplo 10.11\n",
        "# Servidor Yahoo está fora\n",
        "\n",
        "################################################################\n",
        "#                                                              #\n",
        "#  ANTES DE RODAR A PRIMEIRA VEZ PRECISA INSTALAR A BIBLIOTECA #\n",
        "#        pip install pandas_datareader                         #\n",
        "#                                                              #\n",
        "################################################################\n",
        "\n",
        "import matplotlib.pyplot as fig\n",
        "import datetime as dt\n",
        "import pandas_datareader.data as web\n",
        "\n",
        "inicio = dt.datetime(1995,1,1)\n",
        "fim = dt.datetime(2019,11,24)\n",
        "df1 = web.DataReader('DGS10','fred',inicio,fim)\n",
        "df2 = web.DataReader('^DJI','yahoo',inicio,fim)\n",
        "df1['med_mov'] = df1['DGS10'].rolling(window=500,min_periods=0).mean()\n",
        "\n",
        "ax = fig.subplot(111)\n",
        "ax.plot(df1.index,df1['DGS10'],color='black',alpha=0.5)\n",
        "ax.plot(df1.index,df1['med_mov'],color='black')\n",
        "ax.set_title('Tesouro EUA - venc. 10 anos(10-year Treasury)',fontsize=14,weight='bold')\n",
        "\n",
        "ax2 = ax.twinx()\n",
        "ax2.plot(df2.index,df2['Close'],color='black')\n",
        "ax2.text(x=df1.index[11000],y=20000,s='DOW JONES',fontsize=14,weight='bold')\n",
        "fig.grid()"
      ],
      "metadata": {
        "id": "gIJ6dccd2gKx"
      },
      "execution_count": null,
      "outputs": []
    },
    {
      "cell_type": "markdown",
      "source": [
        "##Exemplo  10.12"
      ],
      "metadata": {
        "id": "Hm71kyqH2kGT"
      }
    },
    {
      "cell_type": "code",
      "source": [
        "# Exemplo 10.12\n",
        "# Servidor Yahoo está fora\n",
        "\n",
        "################################################################\n",
        "#                                                              #\n",
        "#  ANTES DE RODAR A PRIMEIRA VEZ PRECISA INSTALAR A BIBLIOTECA #\n",
        "#        pip install pandas_datareader                         #\n",
        "#                                                              #\n",
        "################################################################\n",
        "\n",
        "import matplotlib.pyplot as fig\n",
        "import datetime as dt\n",
        "import pandas_datareader.data as web\n",
        "import numpy as np\n",
        "\n",
        "inicio = dt.datetime(1970,1,1)\n",
        "fim = dt.datetime(2019,11,24)\n",
        "df1 = web.DataReader('DGS10','fred',inicio,fim)\n",
        "df2 = web.DataReader('^DJI','yahoo',inicio,fim)\n",
        "df1['Ret_Tit'] = df1['DGS10'].pct_change()\n",
        "df2['Ret_Dow'] = df2['Close'].pct_change()\n",
        "ax = fig.subplot(111)\n",
        "ax.plot(df1.index,df1['Ret_Tit'],color='black',alpha=0.3)\n",
        "ax.set_title('Retorno Tesouro EUA (10-year Treasury x Dow Jones)',fontsize=18,weight='bold')\n",
        "ax.text(x=index[1000],y=0.05,s='Título de 10 anos',fontsize=14,weight='bold')\n",
        "ax.plot(df2.tit.index,df2['Ret_Dow'],color='black')\n",
        "ax.text(x=tit.index[5000],y=0.2,s='DOW JONES',fontsize=14,weight='bold')\n",
        "fig.legend()\n",
        "fig.grid()"
      ],
      "metadata": {
        "id": "zkMQBrKu2k6P"
      },
      "execution_count": null,
      "outputs": []
    },
    {
      "cell_type": "markdown",
      "source": [
        "##Exemplo  10.13"
      ],
      "metadata": {
        "id": "G_nJ9XmZ2qQD"
      }
    },
    {
      "cell_type": "code",
      "source": [
        "# Exemplo 10.13\n",
        "# Servidor Yahoo está fora\n",
        "\n",
        "################################################################\n",
        "#                                                              #\n",
        "#  ANTES DE RODAR A PRIMEIRA VEZ PRECISA INSTALAR A BIBLIOTECA #\n",
        "#        pip install pandas_datareader                         #\n",
        "#                                                              #\n",
        "################################################################\n",
        "\n",
        "import matplotlib.pyplot as fig\n",
        "import datetime as dt\n",
        "import pandas_datareader.data as web\n",
        "import numpy as np\n",
        "\n",
        "inicio = dt.datetime(1970,1,1)\n",
        "fim = dt.datetime(2019,11,24)\n",
        "df1 = web.DataReader('DGS10','fred',inicio,fim)\n",
        "df2 = web.DataReader('CL','yahoo',inicio,fim)\n",
        "df1['Ret_Tit'] = df1['DGS10'].pct_change()\n",
        "df2['Ret_oil'] = df2['Close'].pct_change()\n",
        "ax = fig.subplot(111)\n",
        "ax.plot(df1.index,df1['Ret_Tit'],color='black',alpha=0.3)\n",
        "ax.set_title('Retorno Tesouro EUA (10-year Treasury x Dow Jones)',fontsize=18,weight='bold')\n",
        "ax.text(x=index[1000],y=0.05,s='Título de 10 anos',fontsize=14,weight='bold')\n",
        "ax.plot(df2.tit.index,df2['Ret_Dow'],color='black')\n",
        "ax.text(x=tit.index[5000],y=0.2,s='DOW JONES',fontsize=14,weight='bold')\n",
        "fig.legend()\n",
        "fig.grid()"
      ],
      "metadata": {
        "id": "daV9hHi12rM0"
      },
      "execution_count": null,
      "outputs": []
    }
  ]
}