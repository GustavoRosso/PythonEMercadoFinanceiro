{
  "nbformat": 4,
  "nbformat_minor": 0,
  "metadata": {
    "colab": {
      "provenance": [],
      "toc_visible": true,
      "authorship_tag": "ABX9TyO6qtEMGAmX7vpZhxMzGhb1",
      "include_colab_link": true
    },
    "kernelspec": {
      "name": "python3",
      "display_name": "Python 3"
    },
    "language_info": {
      "name": "python"
    }
  },
  "cells": [
    {
      "cell_type": "markdown",
      "metadata": {
        "id": "view-in-github",
        "colab_type": "text"
      },
      "source": [
        "<a href=\"https://colab.research.google.com/github/GustavoRosso/PythonEMercadoFinanceiro/blob/main/CAP%C3%8DTULO_2_ITERA%C3%87%C3%83O_E_DECIS%C3%83O.ipynb\" target=\"_parent\"><img src=\"https://colab.research.google.com/assets/colab-badge.svg\" alt=\"Open In Colab\"/></a>"
      ]
    },
    {
      "cell_type": "markdown",
      "source": [
        "#CAPÍTULO 2 - ITERAÇÃO E DECISÃO"
      ],
      "metadata": {
        "id": "fGAl0JpSBTlE"
      }
    },
    {
      "cell_type": "markdown",
      "source": [
        "#Exemplos"
      ],
      "metadata": {
        "id": "JepO346vVgfD"
      }
    },
    {
      "cell_type": "markdown",
      "source": [
        "##Exemplo 2.1"
      ],
      "metadata": {
        "id": "Qa37WLVn9OLQ"
      }
    },
    {
      "cell_type": "code",
      "source": [
        "# Exemplo 2.1\n",
        "# Cálculo da área de círculo\n",
        "\n",
        "import math\n",
        "\n",
        "raio = float(input(\"Raio = \"))\n",
        "area = math.pi * raio**2\n",
        "print(\"Área = \", area)"
      ],
      "metadata": {
        "colab": {
          "base_uri": "https://localhost:8080/"
        },
        "id": "77KSi2ZfCKHD",
        "outputId": "cb9054b5-e306-4c8b-ac0e-315c608f4ecc"
      },
      "execution_count": 2,
      "outputs": [
        {
          "output_type": "stream",
          "name": "stdout",
          "text": [
            "Raio = 3.5\n",
            "Área =  38.48451000647496\n"
          ]
        }
      ]
    },
    {
      "cell_type": "markdown",
      "source": [
        "##Exemplo 2.2"
      ],
      "metadata": {
        "id": "VPooa0P-CeCj"
      }
    },
    {
      "cell_type": "code",
      "source": [
        "# Exemplo 2.2\n",
        "\n",
        "import math\n",
        "\n",
        "x = float(input(\"X = \"))\n",
        "y = float(input(\"Y = \"))\n",
        "z = math.sqrt(x**2 + y) - math.log(x) + math.exp(y)\n",
        "\n",
        "print(\"Valor de z = \", z)"
      ],
      "metadata": {
        "colab": {
          "base_uri": "https://localhost:8080/"
        },
        "id": "6BtKq-sbCKu1",
        "outputId": "be5f800b-27ee-4dd0-c332-d6dacc194d47"
      },
      "execution_count": 3,
      "outputs": [
        {
          "output_type": "stream",
          "name": "stdout",
          "text": [
            "X = 2\n",
            "Y = 3\n",
            "Valor de z =  22.038141053692314\n"
          ]
        }
      ]
    },
    {
      "cell_type": "markdown",
      "source": [
        "##Exemplo 2.3"
      ],
      "metadata": {
        "id": "vXnXeQlpCw3k"
      }
    },
    {
      "cell_type": "code",
      "source": [
        "# Exemplo 2.3\n",
        "\n",
        "r1 = float(input(\"Retorno 1 = \"))\n",
        "r2 = float(input(\"Retorno 2 = \"))\n",
        "r3 = float(input(\"Retorno 3 = \"))\n",
        "\n",
        "p1 = float(input(\"Probabilidade 1 = \"))\n",
        "p2 = float(input(\"Probabilidade 2 = \"))\n",
        "p3 = float(input(\"Probabilidade 3 = \"))\n",
        "\n",
        "ret_medio = r1 * p1 + r2 * p2 + r3 * p3\n",
        "\n",
        "print(\"Retorno média = \", ret_medio)"
      ],
      "metadata": {
        "colab": {
          "base_uri": "https://localhost:8080/"
        },
        "id": "hNYpXCSHCynJ",
        "outputId": "be2ed36e-ba6d-4fe7-e8ff-78c57e3130c1"
      },
      "execution_count": 4,
      "outputs": [
        {
          "output_type": "stream",
          "name": "stdout",
          "text": [
            "Retorno 1 = 100\n",
            "Retorno 2 = 90\n",
            "Retorno 3 = 120\n",
            "Probabilidade 1 = 0.2\n",
            "Probabilidade 2 = 0.7\n",
            "Probabilidade 3 = 0.1\n",
            "Retorno média =  95.0\n"
          ]
        }
      ]
    },
    {
      "cell_type": "markdown",
      "source": [
        "##Exemplo 2.4"
      ],
      "metadata": {
        "id": "GldbNZBxDSLX"
      }
    },
    {
      "cell_type": "code",
      "source": [
        "# Exemplo 2.4\n",
        "# Calculo retorno\n",
        "\n",
        "p1 = float(input(\"Resultado do primeiro dia = \"))\n",
        "p2 = float(input(\"Resultado do segundo dia = \"))\n",
        "retorno = p2 - p1\n",
        "if retorno >= 0:\n",
        "    print(\"lucro\")\n",
        "    print(\"fiquei feliz\")\n",
        "else:\n",
        "    print(\"prejuizo\")\n",
        "    print(\"fiquei triste\")"
      ],
      "metadata": {
        "colab": {
          "base_uri": "https://localhost:8080/"
        },
        "id": "42GoURoGDUK7",
        "outputId": "991f24de-387c-426a-d4e1-a9c36b15c7cf"
      },
      "execution_count": 5,
      "outputs": [
        {
          "output_type": "stream",
          "name": "stdout",
          "text": [
            "Resultado do primeiro dia = 10\n",
            "Resultado do segundo dia = 20\n",
            "lucro\n",
            "fiquei feliz\n"
          ]
        }
      ]
    },
    {
      "cell_type": "code",
      "source": [
        "#Código com erro identação\n",
        "\n",
        "p1 = float(input(\"Resultado do primeiro dia = \"))\n",
        "p2 = float(input(\"Resultado do segundo dia = \"))\n",
        "retorno = p2 - p1\n",
        "if retorno >= 0:\n",
        "    print(\"lucro\")\n",
        "    print(\"fiquei feliz\")\n",
        "else:\n",
        "    print(\"prejuizo\")\n",
        "print(\"fiquei triste\")"
      ],
      "metadata": {
        "colab": {
          "base_uri": "https://localhost:8080/"
        },
        "id": "w2ARdibJDezk",
        "outputId": "f3d84c0b-8893-43f0-9d9c-72af04b487cc"
      },
      "execution_count": 6,
      "outputs": [
        {
          "output_type": "stream",
          "name": "stdout",
          "text": [
            "Resultado do primeiro dia = 10\n",
            "Resultado do segundo dia = 20\n",
            "lucro\n",
            "fiquei feliz\n",
            "fiquei triste\n"
          ]
        }
      ]
    },
    {
      "cell_type": "markdown",
      "source": [
        "##Exemplo 2.5"
      ],
      "metadata": {
        "id": "vuuMQKYlD16q"
      }
    },
    {
      "cell_type": "code",
      "source": [
        "# Exemplo 2.5\n",
        "# Calculo faixa de preço\n",
        "\n",
        "p1 = float(input(\"preço 1 = \"))\n",
        "\n",
        "if p1 <= 18:\n",
        "    print(\"barato\")\n",
        "elif (p1 > 18) and (p1 <= 25):\n",
        "    print(\"adequado\")\n",
        "elif (p1 > 25) and (p1 <= 32):\n",
        "    print(\"caro\")\n",
        "else:\n",
        "    print(\"extremamente caro\")"
      ],
      "metadata": {
        "colab": {
          "base_uri": "https://localhost:8080/"
        },
        "id": "9ruMC_l3D4bY",
        "outputId": "b4e1323b-4323-459e-cd7e-0822e2c7806b"
      },
      "execution_count": 7,
      "outputs": [
        {
          "output_type": "stream",
          "name": "stdout",
          "text": [
            "preço 1 = 30\n",
            "caro\n"
          ]
        }
      ]
    },
    {
      "cell_type": "markdown",
      "source": [
        "##Exemplo 2.6"
      ],
      "metadata": {
        "id": "YiktfCOdEEVi"
      }
    },
    {
      "cell_type": "code",
      "source": [
        "# Exemplo 2.6\n",
        "# Decide se um número é par ou impar\n",
        "\n",
        "n = int(input(\"Entre com um número = \"))\n",
        "\n",
        "resto = n % 2\n",
        "if (resto == 0):\n",
        "    print(\"Par\")\n",
        "else:\n",
        "    print(\"Impar\")"
      ],
      "metadata": {
        "colab": {
          "base_uri": "https://localhost:8080/"
        },
        "id": "hUwSBt0YEGfY",
        "outputId": "8cd49ce3-5363-4c75-d724-bedcc91dce02"
      },
      "execution_count": 8,
      "outputs": [
        {
          "output_type": "stream",
          "name": "stdout",
          "text": [
            "Entre com um número = 113\n",
            "Impar\n"
          ]
        }
      ]
    },
    {
      "cell_type": "markdown",
      "source": [
        "##Exemplo 2.7"
      ],
      "metadata": {
        "id": "PxFFpoGhEQ1a"
      }
    },
    {
      "cell_type": "code",
      "source": [
        "# Exemplo 2.7\n",
        "# Encadeamento de If\n",
        "\n",
        "perg1 = str(input(\"Temer sai? \"))\n",
        "if perg1 == 's':\n",
        "    perg2 = str(input(\"Maia assume a presidencia? \"))\n",
        "    if perg2 == 's':\n",
        "        perg3 = str(input(\"Antecipa a eleição? \"))\n",
        "        if perg3 == 's':\n",
        "            print(\"Comprar Petrobras.\")\n",
        "        else:\n",
        "            print(\"Comprar Usiminas.\")\n",
        "    else:\n",
        "            perg3 = str(input(\"Antecipa a eleição? \"))\n",
        "            if perg3 == 's':\n",
        "                print(\"Comprar Gerdau.\")\n",
        "            else:\n",
        "                print(\"Comprar Vale.\")\n",
        "else:\n",
        "    perg2 = str(input(\"Greve dos caminhoneiros? \"))\n",
        "    if perg2 == 's':\n",
        "        print(\"Comprar dólar.\")\n",
        "    else:\n",
        "        print(\"Comprar ouro.\")"
      ],
      "metadata": {
        "colab": {
          "base_uri": "https://localhost:8080/"
        },
        "id": "RxNPGgfuEO8J",
        "outputId": "869c7a72-53bb-42d9-9e13-7a7a71e3dbd6"
      },
      "execution_count": 10,
      "outputs": [
        {
          "output_type": "stream",
          "name": "stdout",
          "text": [
            "Temer sai? s\n",
            "Maia assume a presidencia? s\n",
            "Antecipa a eleição? n\n",
            "Comprar Usiminas.\n"
          ]
        }
      ]
    },
    {
      "cell_type": "markdown",
      "source": [
        "##Exemplo 2.8"
      ],
      "metadata": {
        "id": "9pSkjGc1EktH"
      }
    },
    {
      "cell_type": "code",
      "source": [
        "# Exemplo 2.8\n",
        "\n",
        "cont = 1\n",
        "x = 0\n",
        "while x < 20:\n",
        "    x = cont * 5\n",
        "    cont = cont +1\n",
        "    print(x)"
      ],
      "metadata": {
        "colab": {
          "base_uri": "https://localhost:8080/"
        },
        "id": "F8CBarjxEmLK",
        "outputId": "c2b176bd-b5c6-4d6b-a093-8bf8bcf1b84f"
      },
      "execution_count": 11,
      "outputs": [
        {
          "output_type": "stream",
          "name": "stdout",
          "text": [
            "5\n",
            "10\n",
            "15\n",
            "20\n"
          ]
        }
      ]
    },
    {
      "cell_type": "markdown",
      "source": [
        "##Exemplo 2.9"
      ],
      "metadata": {
        "id": "ikP4OPLtE1Mv"
      }
    },
    {
      "cell_type": "code",
      "source": [
        "# Exemplo 2.9\n",
        "# Soma de n números pares\n",
        "\n",
        "n = int(input(\"Quantidade de números = \"))\n",
        "cont = 0\n",
        "s = 0\n",
        "while cont <= n:\n",
        "    if cont % 2 == 0:\n",
        "        s = s + cont\n",
        "        print(s)\n",
        "    cont = cont + 1"
      ],
      "metadata": {
        "colab": {
          "base_uri": "https://localhost:8080/"
        },
        "id": "Hi0sY4j9E2az",
        "outputId": "3e94306f-62dc-4b95-d063-628a73e70f0b"
      },
      "execution_count": 12,
      "outputs": [
        {
          "output_type": "stream",
          "name": "stdout",
          "text": [
            "Quantidade de números = 10\n",
            "0\n",
            "2\n",
            "6\n",
            "12\n",
            "20\n",
            "30\n"
          ]
        }
      ]
    },
    {
      "cell_type": "markdown",
      "source": [
        "##Exemplo 2.10"
      ],
      "metadata": {
        "id": "b0GDWVhCFHUD"
      }
    },
    {
      "cell_type": "code",
      "source": [
        "# Exemplo 2.10\n",
        "# Imprimir parte de uma lista\n",
        "\n",
        "nomes = ['mário','josé','mário','maria','carlos','ana','mário']\n",
        "n = len(nomes)\n",
        "cont = 1\n",
        "\n",
        "while cont <= n-1:\n",
        "    if nomes[cont] != 'mário':\n",
        "        print(nomes[cont])\n",
        "    cont = cont + 1"
      ],
      "metadata": {
        "colab": {
          "base_uri": "https://localhost:8080/"
        },
        "id": "ZgKmHiapFIYW",
        "outputId": "f134d505-eaf4-4215-8adb-064f82adb38f"
      },
      "execution_count": 13,
      "outputs": [
        {
          "output_type": "stream",
          "name": "stdout",
          "text": [
            "josé\n",
            "maria\n",
            "carlos\n",
            "ana\n"
          ]
        }
      ]
    },
    {
      "cell_type": "markdown",
      "source": [
        "##Exemplo 2.11"
      ],
      "metadata": {
        "id": "-_8fPJWdFifU"
      }
    },
    {
      "cell_type": "code",
      "source": [
        "# Exemplo 2.11\n",
        "# Soma de n números\n",
        "\n",
        "n = int(input(\"Quantidade de números = \"))\n",
        "cont = 1\n",
        "s = 0\n",
        "while cont <= n:\n",
        "    s = s + cont\n",
        "    if s % 2 == 0 : break\n",
        "    cont = cont + 1\n",
        "    print(s)"
      ],
      "metadata": {
        "colab": {
          "base_uri": "https://localhost:8080/"
        },
        "id": "1IehIjMDFM_q",
        "outputId": "fefdf052-84df-4965-a313-cda7300c27ac"
      },
      "execution_count": 14,
      "outputs": [
        {
          "output_type": "stream",
          "name": "stdout",
          "text": [
            "Quantidade de números = 10\n",
            "1\n",
            "3\n"
          ]
        }
      ]
    },
    {
      "cell_type": "markdown",
      "source": [
        "##Exemplo 2.12"
      ],
      "metadata": {
        "id": "2jF501pmFhwL"
      }
    },
    {
      "cell_type": "code",
      "source": [
        "# Exemplo 2.12\n",
        "# Soma de n números\n",
        "\n",
        "n = int(input(\"Quantidade de números = \"))\n",
        "cont = 1\n",
        "s = 0\n",
        "while cont <= n:\n",
        "    s = s + cont\n",
        "    if s % 2 == 0 : continue\n",
        "    cont = cont + 1\n",
        "    print(s)"
      ],
      "metadata": {
        "colab": {
          "base_uri": "https://localhost:8080/"
        },
        "id": "zFLwpN-_FoIN",
        "outputId": "e9a2adb5-b3b5-483a-8370-cf1f058662a3"
      },
      "execution_count": 15,
      "outputs": [
        {
          "output_type": "stream",
          "name": "stdout",
          "text": [
            "Quantidade de números = 10\n",
            "1\n",
            "3\n",
            "9\n",
            "13\n",
            "23\n",
            "29\n",
            "43\n",
            "51\n",
            "69\n",
            "79\n"
          ]
        }
      ]
    },
    {
      "cell_type": "markdown",
      "source": [
        "##Exemplo 2.13"
      ],
      "metadata": {
        "id": "XT7D5ne8GJmb"
      }
    },
    {
      "cell_type": "code",
      "source": [
        "# Exemplo 2.13\n",
        "# Imprimindo\n",
        "\n",
        "n = int(input(\"Total de números = \"))\n",
        "s = 0\n",
        "\n",
        "for i in range(0, n):\n",
        "    x = float(input(\"Número = \"))\n",
        "    s = s + x\n",
        "    print(s)\n",
        "print(\"Soma total = \", s)"
      ],
      "metadata": {
        "colab": {
          "base_uri": "https://localhost:8080/"
        },
        "id": "A3W0B4UXGLfH",
        "outputId": "22f052a5-7b0d-4a2c-925f-f26ca5aed185"
      },
      "execution_count": 17,
      "outputs": [
        {
          "output_type": "stream",
          "name": "stdout",
          "text": [
            "Total de números = 5\n",
            "Número = -2\n",
            "-2.0\n",
            "Número = 4\n",
            "2.0\n",
            "Número = 5\n",
            "7.0\n",
            "Número = 7\n",
            "14.0\n",
            "Número = -1\n",
            "13.0\n",
            "Soma total =  13.0\n"
          ]
        }
      ]
    },
    {
      "cell_type": "markdown",
      "source": [
        "##Exemplo 2.14"
      ],
      "metadata": {
        "id": "xeCRs4cZGj4Q"
      }
    },
    {
      "cell_type": "code",
      "source": [
        "# Exemplo 2.14\n",
        "# Imprimindo palavras\n",
        "\n",
        "lista_nomes = ['um', 'dois', 'três', 'quatro','cinco']\n",
        "nova = []\n",
        "for i in range(len(lista_nomes)-1 ,-1,-1):\n",
        "        nova.append(lista_nomes[i-len(lista_nomes)])\n",
        "print(nova)"
      ],
      "metadata": {
        "colab": {
          "base_uri": "https://localhost:8080/"
        },
        "id": "yHjPpTXVGVik",
        "outputId": "ba994f37-daf6-44c6-92bb-3f614969495a"
      },
      "execution_count": 18,
      "outputs": [
        {
          "output_type": "stream",
          "name": "stdout",
          "text": [
            "['cinco', 'quatro', 'três', 'dois', 'um']\n"
          ]
        }
      ]
    },
    {
      "cell_type": "markdown",
      "source": [
        "##Exemplo 2.15"
      ],
      "metadata": {
        "id": "g7cjTfxOGrin"
      }
    },
    {
      "cell_type": "code",
      "source": [
        "# Exemplo 2.15\n",
        "# Exemplo para fatiar uma lista com for\n",
        "\n",
        "letras = [['a','b','c'],['a','d','f','a'],['b','b','d','c']]\n",
        "i = 1 # Pra que?\n",
        "letras_novas = []\n",
        "for p in letras:\n",
        "    for x in p:\n",
        "        letras_novas.append(x)\n",
        "\n",
        "print('++++++++ Nova Lista ++++++++')\n",
        "print(letras_novas)"
      ],
      "metadata": {
        "colab": {
          "base_uri": "https://localhost:8080/"
        },
        "id": "DjD5oOStGoqk",
        "outputId": "690a9714-3d20-4abe-a1b3-25bc0be5d4cc"
      },
      "execution_count": 19,
      "outputs": [
        {
          "output_type": "stream",
          "name": "stdout",
          "text": [
            "++++++++ Nova Lista ++++++++\n",
            "['a', 'b', 'c', 'a', 'd', 'f', 'a', 'b', 'b', 'd', 'c']\n"
          ]
        }
      ]
    },
    {
      "cell_type": "markdown",
      "source": [
        "##Exemplo 2.16"
      ],
      "metadata": {
        "id": "Fr_TGcAdGxrA"
      }
    },
    {
      "cell_type": "code",
      "source": [
        "# Exemplo 2.16\n",
        "# Fatorial\n",
        "\n",
        "n = int(input(\"n = \"))\n",
        "fat = 1\n",
        "for i in range(1, n+1):\n",
        "    fat = fat * i\n",
        "print(\"Fatorial = \", fat)"
      ],
      "metadata": {
        "colab": {
          "base_uri": "https://localhost:8080/"
        },
        "id": "iJ84RIWOGwTw",
        "outputId": "3f6de9ed-2efe-483a-8e26-0a9342632098"
      },
      "execution_count": 20,
      "outputs": [
        {
          "output_type": "stream",
          "name": "stdout",
          "text": [
            "n = 3\n",
            "Fatorial =  6\n"
          ]
        }
      ]
    },
    {
      "cell_type": "code",
      "source": [
        "import math\n",
        "n = int(input(\"n = \"))\n",
        "fat = math.factorial(n)\n",
        "print(\"Fatorial com a biblioteca math = \", fat)"
      ],
      "metadata": {
        "colab": {
          "base_uri": "https://localhost:8080/"
        },
        "id": "k0djDC2KG3AU",
        "outputId": "ccd2228c-f2de-4e92-9ac0-ed359638c8b3"
      },
      "execution_count": 21,
      "outputs": [
        {
          "output_type": "stream",
          "name": "stdout",
          "text": [
            "n = 3\n",
            "Fatorial com a biblioteca math =  6\n"
          ]
        }
      ]
    },
    {
      "cell_type": "markdown",
      "source": [
        "##Exemplo 2.17"
      ],
      "metadata": {
        "id": "rAMuyI_AHB_Z"
      }
    },
    {
      "cell_type": "code",
      "source": [
        "# Exemplo 2.17\n",
        "# Algoritmo do Exponencial\n",
        "\n",
        "n = int(input(\"n = \"))\n",
        "x = float(input(\"x = \"))\n",
        "fat = 1\n",
        "s = 1\n",
        "for i in range(1, n + 1):\n",
        "    fat = fat * i\n",
        "    s = s + x**i/fat\n",
        "print(\"Soma = \", s)"
      ],
      "metadata": {
        "colab": {
          "base_uri": "https://localhost:8080/"
        },
        "id": "Z4-f-DWtG9ie",
        "outputId": "edcffc4d-a5e9-4826-d47c-9383e95a102c"
      },
      "execution_count": 23,
      "outputs": [
        {
          "output_type": "stream",
          "name": "stdout",
          "text": [
            "n = 10\n",
            "x = 1\n",
            "Soma =  2.7182818011463845\n"
          ]
        }
      ]
    },
    {
      "cell_type": "code",
      "source": [
        "import math\n",
        "n = int(input(\"n = \"))\n",
        "s = math.exp(n)\n",
        "print(\"Soma = \",s)"
      ],
      "metadata": {
        "colab": {
          "base_uri": "https://localhost:8080/"
        },
        "id": "SG8Ng2OrHQvp",
        "outputId": "13fee0f4-1c56-4a79-8b77-475b6b187817"
      },
      "execution_count": 25,
      "outputs": [
        {
          "output_type": "stream",
          "name": "stdout",
          "text": [
            "n = 1\n",
            "Soma =  2.718281828459045\n"
          ]
        }
      ]
    },
    {
      "cell_type": "markdown",
      "source": [
        "#Exercícios 2.9\n"
      ],
      "metadata": {
        "id": "puuN8Jyn-hwR"
      }
    },
    {
      "cell_type": "markdown",
      "source": [
        "##Exercício 1"
      ],
      "metadata": {
        "id": "17m8sc9A_gyx"
      }
    },
    {
      "cell_type": "code",
      "source": [
        "# Exercícios 2.9\n",
        "# 1\n",
        "# Solução do autor\n",
        "\n",
        "n =int(input(\"n = \"))\n",
        "if n >= 0:\n",
        "    print(\"Positivo\")\n",
        "else:\n",
        "    print(\"Negativo\")"
      ],
      "metadata": {
        "colab": {
          "base_uri": "https://localhost:8080/"
        },
        "id": "k0ot0Gk8Pjfu",
        "outputId": "1aae3996-8b9d-4279-b25e-c27ee9f7d5fa"
      },
      "execution_count": 26,
      "outputs": [
        {
          "output_type": "stream",
          "name": "stdout",
          "text": [
            "n = 10\n",
            "Positivo\n"
          ]
        }
      ]
    },
    {
      "cell_type": "code",
      "source": [
        "# Minha solução\n",
        "\n",
        "n = float(input(\"Digite um número: \"))\n",
        "\n",
        "if n > 0:\n",
        "    print(\"O número \", n ,\" é positivo.\")\n",
        "elif n < 0:\n",
        "    print(\"O número \", n ,\" é negativo.\")\n",
        "else:\n",
        "    print(\"O número \", n ,\" é zero.\")"
      ],
      "metadata": {
        "colab": {
          "base_uri": "https://localhost:8080/"
        },
        "id": "f_jN7icUPvnZ",
        "outputId": "a5418cb2-1e5a-4719-da34-5edc800dfc96"
      },
      "execution_count": 27,
      "outputs": [
        {
          "output_type": "stream",
          "name": "stdout",
          "text": [
            "Digite um número: 10\n",
            "O número  10.0  é positivo.\n"
          ]
        }
      ]
    },
    {
      "cell_type": "markdown",
      "source": [
        "##Exercício 2"
      ],
      "metadata": {
        "id": "8o1EJSHAS9AP"
      }
    },
    {
      "cell_type": "code",
      "source": [
        "# Exercícios 2.9\n",
        "# 2\n",
        "# Solução do autor\n",
        "\n",
        "ld1 = float(input(\"Lado 1 = \"))\n",
        "ld2 = float(input(\"Lado 2 = \"))\n",
        "ld3 = float(input(\"Lado 3 = \"))\n",
        "if (ld1 != ld2) and (ld1 != ld3) and (ld2 != ld3):\n",
        "    print(\"Escaleno\")\n",
        "elif (ld1 == ld2) and (ld1 == ld3) and (ld2 == ld3):\n",
        "    print(\"Equilátero\")\n",
        "else:\n",
        "    print(\"Isósceles\")"
      ],
      "metadata": {
        "colab": {
          "base_uri": "https://localhost:8080/"
        },
        "id": "h0_u3OTGS-sA",
        "outputId": "7676818e-f035-4fe5-a74e-d09512474225"
      },
      "execution_count": 28,
      "outputs": [
        {
          "output_type": "stream",
          "name": "stdout",
          "text": [
            "Lado 1 = 1\n",
            "Lado 2 = 5\n",
            "Lado 3 = 7\n",
            "Escaleno\n"
          ]
        }
      ]
    },
    {
      "cell_type": "code",
      "source": [
        "#Minha solução\n",
        "\n",
        "a = int(input(\"Digite o tamanho do lado A: \"))\n",
        "b = int(input(\"Digite o tamanho do lado B: \"))\n",
        "c = int(input(\"Digite o tamanho do lado C: \"))\n",
        "\n",
        "if a == b and b == c:\n",
        "    print(\"Tiângulo Equilátero\")\n",
        "\n",
        "elif a == b or b == c or a == c:\n",
        "    print(\"Tiângulo Isósceles\")\n",
        "\n",
        "else:\n",
        "    print(\"Triângulo Escaleno\")"
      ],
      "metadata": {
        "colab": {
          "base_uri": "https://localhost:8080/"
        },
        "id": "eMl3X99eTQQ1",
        "outputId": "715e48d5-9952-431a-f815-f09408a5ee85"
      },
      "execution_count": 29,
      "outputs": [
        {
          "output_type": "stream",
          "name": "stdout",
          "text": [
            "Digite o tamanho do lado A: 1\n",
            "Digite o tamanho do lado B: 5\n",
            "Digite o tamanho do lado C: 7\n",
            "Triângulo Escaleno\n"
          ]
        }
      ]
    },
    {
      "cell_type": "markdown",
      "source": [
        "##Exercício 3"
      ],
      "metadata": {
        "id": "GK_h6JnyTtRh"
      }
    },
    {
      "cell_type": "code",
      "source": [
        "# Exercícios 2.9\n",
        "# 3\n",
        "# Solução do autor\n",
        "\n",
        "compra = float(input(\"Preço de compra = \"))\n",
        "venda = float(input(\"Preço de venda = \"))\n",
        "\n",
        "retorno = venda - compra\n",
        "faixa = retorno / compra\n",
        "\n",
        "if faixa < 0.1:\n",
        "    print(\"Lucro abaixo de 10%\")\n",
        "elif faixa <= 0.2:\n",
        "    print(\"Lucro entre 10% e 20%\")\n",
        "else:\n",
        "    print(\"Lucro acima de 20%\")"
      ],
      "metadata": {
        "colab": {
          "base_uri": "https://localhost:8080/"
        },
        "id": "Wet12yjhTk2p",
        "outputId": "8f6dd35b-0316-43b7-bf74-ce03a01b845c"
      },
      "execution_count": 30,
      "outputs": [
        {
          "output_type": "stream",
          "name": "stdout",
          "text": [
            "Preço de compra = 30\n",
            "Preço de venda = 50\n",
            "Lucro acima de 20%\n"
          ]
        }
      ]
    },
    {
      "cell_type": "code",
      "source": [
        "#Minha solução\n",
        "\n",
        "a = int(input(\"Digite o preço de compra: \"))\n",
        "b = int(input(\"Digite o preço de venda: \"))\n",
        "\n",
        "c = ((b - a) / a) * 100\n",
        "\n",
        "if c > 0 and c < 10:\n",
        "    print(\"Lucro é menor que 10%.\")\n",
        "\n",
        "elif c > 10 and c <= 20:\n",
        "    print(\"Lucro é maior que 10%.\")\n",
        "\n",
        "elif c > 20:\n",
        "    print(\"Lucro é maior que 20%.\")\n",
        "\n",
        "else:\n",
        "    print(\"Venda deu prejuizo.\")"
      ],
      "metadata": {
        "colab": {
          "base_uri": "https://localhost:8080/"
        },
        "id": "lJWcx_xXTyeg",
        "outputId": "c319bc13-c5e9-4116-9932-2686c9bfe6b1"
      },
      "execution_count": 31,
      "outputs": [
        {
          "output_type": "stream",
          "name": "stdout",
          "text": [
            "Digite o preço de compra: 30\n",
            "Digite o preço de venda: 50\n",
            "Lucro é maior que 20%.\n"
          ]
        }
      ]
    },
    {
      "cell_type": "markdown",
      "source": [
        "##Exercício 4"
      ],
      "metadata": {
        "id": "QuItO62OT_Wp"
      }
    },
    {
      "cell_type": "code",
      "source": [
        "# Exercícios 2.9\n",
        "# 4\n",
        "# Solução do autor\n",
        "\n",
        "baixa = float(input(\"Baixa histórica = \"))\n",
        "alta = float(input(\"Alta histórica = \"))\n",
        "\n",
        "suporte = baixa + (alta - baixa) * 0.3\n",
        "resistencia = baixa + (alta - baixa) * 0.6\n",
        "print(suporte, resistencia)\n",
        "\n",
        "preco_acao = float(input(\"Preço atual da ação = \"))\n",
        "\n",
        "if preco_acao >= suporte and preco_acao <= resistencia:\n",
        "    print(\"Dentro da faixa.\")\n",
        "else:\n",
        "    print(\"Fora da faixa.\")"
      ],
      "metadata": {
        "colab": {
          "base_uri": "https://localhost:8080/"
        },
        "id": "ePcy-CA7T3fQ",
        "outputId": "bfc7b3f9-b70a-4ec0-ca10-8910a3ff4e8b"
      },
      "execution_count": 34,
      "outputs": [
        {
          "output_type": "stream",
          "name": "stdout",
          "text": [
            "Baixa histórica = 20\n",
            "Alta histórica = 40\n",
            "26.0 32.0\n",
            "Preço atual da ação = 29\n",
            "Dentro da faixa.\n"
          ]
        }
      ]
    },
    {
      "cell_type": "code",
      "source": [
        "#Minha solução\n",
        "baixa = float(input(\"Digite o preço da baixa histórica: \"))\n",
        "alta = float(input(\"Digite o preço da alta histórica: \"))\n",
        "atual = float(input(\"Digite o preço atual do ativo: \"))\n",
        "\n",
        "suporte = baixa + (alta - baixa) * 0.3\n",
        "resistencia = float(baixa + (alta - baixa) * 0.6)\n",
        "\n",
        "print()\n",
        "print('-------------Resultado-------------')\n",
        "print(\"A resistência do ativo é em %.2f \" % resistencia)\n",
        "print(\"O suporte do ativo é em %.2f \" % suporte)\n",
        "\n",
        "if atual <= resistencia and atual >= suporte:\n",
        "    print(\"O preço R$%.2f está dentro da faixa de suporte-resistência.\" % atual)\n",
        "else:\n",
        "        print(\"O preço do ativo R$%.2f está fora da faixa de suporte-resistência.\" % atual)"
      ],
      "metadata": {
        "colab": {
          "base_uri": "https://localhost:8080/"
        },
        "id": "czUoG-2tUDwY",
        "outputId": "94f2ca35-1436-44d1-cc58-87bca7cae8d4"
      },
      "execution_count": 35,
      "outputs": [
        {
          "output_type": "stream",
          "name": "stdout",
          "text": [
            "Digite o preço da baixa histórica: 20\n",
            "Digite o preço da alta histórica: 40\n",
            "Digite o preço atual do ativo: 29\n",
            "\n",
            "-------------Resultado-------------\n",
            "A resistência do ativo é em 32.00 \n",
            "O suporte do ativo é em 26.00 \n",
            "O preço R$29.00 está dentro da faixa de suporte-resistência.\n"
          ]
        }
      ]
    },
    {
      "cell_type": "markdown",
      "source": [
        "##Exercício 5"
      ],
      "metadata": {
        "id": "fhoGZcqlUbXg"
      }
    },
    {
      "cell_type": "code",
      "source": [
        "#Exercícios 2.9\n",
        "# 5\n",
        "# Solução do autor\n",
        "\n",
        "import math as mt\n",
        "\n",
        "a = float(input(\"A = \"))\n",
        "b = float(input(\"B = \"))\n",
        "c = float(input(\"C = \"))\n",
        "\n",
        "delta = b**2-4*a*c\n",
        "\n",
        "if delta >0:\n",
        "    x1 = (-b + mt.sqrt(delta))/(2 * a)\n",
        "    x2 = (-b - mt.sqrt(delta))/(2 * a)\n",
        "    print(\"Raiz 1 = \", x1, \"Raiz de 2 = \", x2)\n",
        "elif delta == 0:\n",
        "    x1 = -b/(2 * a)\n",
        "    print(\"Duas raizes iguais a \", x1)\n",
        "else:\n",
        "    print(\"Não existem raízes iguais.\")"
      ],
      "metadata": {
        "colab": {
          "base_uri": "https://localhost:8080/"
        },
        "id": "PU8KMwtiUVd3",
        "outputId": "25b689da-dbc1-4f28-cf3e-d29831f95ae9"
      },
      "execution_count": 36,
      "outputs": [
        {
          "output_type": "stream",
          "name": "stdout",
          "text": [
            "A = 10\n",
            "B = 35\n",
            "C = 50\n",
            "Não existem raízes iguais.\n"
          ]
        }
      ]
    },
    {
      "cell_type": "markdown",
      "source": [
        "##Exercício 6"
      ],
      "metadata": {
        "id": "eFYCLoQjVMsQ"
      }
    },
    {
      "cell_type": "code",
      "source": [
        "# Exercícios 2.9\n",
        "# 6\n",
        "# Solução do autor\n",
        "\n",
        "compra = float(input(\"Valor da compra: \"))\n",
        "\n",
        "if compra <= 20:\n",
        "    desc = 0.05\n",
        "elif compra <= 50:\n",
        "    desc = 0.1\n",
        "elif compra <= 100:\n",
        "    desc = 0.15\n",
        "elif compra <= 1000:\n",
        "    desc = 0.2\n",
        "else:\n",
        "    desc = 0.3\n",
        "\n",
        "compraf = compra * (1-desc)\n",
        "print(\"Valor da compra com desconto = \", compraf)"
      ],
      "metadata": {
        "colab": {
          "base_uri": "https://localhost:8080/"
        },
        "id": "dLd2_SrPVEVV",
        "outputId": "6c9d7875-1d94-4d97-b760-ac0d9b7f64a8"
      },
      "execution_count": 37,
      "outputs": [
        {
          "output_type": "stream",
          "name": "stdout",
          "text": [
            "Valor da compra: 30\n",
            "Valor da compra com desconto =  27.0\n"
          ]
        }
      ]
    },
    {
      "cell_type": "code",
      "source": [
        "# Minha solução\n",
        "\n",
        "compra = float(input(\"Digite o valor da compra: \"))\n",
        "\n",
        "if compra > 0 and compra <= 20:\n",
        "    total = compra - (compra * 0.05)\n",
        "    print(\"O valor com desconto de 5 porcento é:R$ %.2f\" % total)\n",
        "\n",
        "elif compra >= 21 and compra <= 50:\n",
        "    total = compra - (compra * 0.10)\n",
        "    print(\"O valor com desconto de 10 porcento é :R$ %.2f\" % total)\n",
        "\n",
        "elif compra >= 51 and compra <= 100:\n",
        "    total = compra - (compra * 0.15)\n",
        "    print(\"O valor com desconto de 15 porcento é :R$ %.2f\" % total)\n",
        "\n",
        "elif compra >= 101 and compra <= 1000:\n",
        "    total = compra - (compra * 0.20)\n",
        "    print(\"O valor com desconto de 20 porcento é :R$ %.2f\" % total)\n",
        "\n",
        "else:\n",
        "    total = compra - (compra * 0.30)\n",
        "    print(\"O valor com desconto de 30 porcento é :R$ %.2f\" % total)"
      ],
      "metadata": {
        "colab": {
          "base_uri": "https://localhost:8080/"
        },
        "id": "ywnbcPJlVSbG",
        "outputId": "95b5e2bf-5a35-4055-ebb2-703125c4f246"
      },
      "execution_count": 38,
      "outputs": [
        {
          "output_type": "stream",
          "name": "stdout",
          "text": [
            "Digite o valor da compra: 30\n",
            "O valor com desconto de 10 porcento é :R$ 27.00\n"
          ]
        }
      ]
    },
    {
      "cell_type": "markdown",
      "source": [
        "##Exercício 7\n"
      ],
      "metadata": {
        "id": "IKVWQ46PVhvT"
      }
    },
    {
      "cell_type": "code",
      "source": [
        "# Exercícios 2.9\n",
        "# 7\n",
        "# Solução do autor\n",
        "\n",
        "n = int(input(\"Total de vendas (n) = \"))\n",
        "# Zerando a soma dospares e ímpares\n",
        "sp = 0\n",
        "si = 0\n",
        "\n",
        "#+++++++++++ Aqui começa a interação +++++++++++\n",
        "for i in range(n):\n",
        "    x = int(input(\"X = \"))\n",
        "    if x % 2 == 0:\n",
        "        sp = sp + x\n",
        "    else:\n",
        "        si = si + x\n",
        "\n",
        "print(\"Soma de pares = \", sp, \", Soma de ímpares = \", si)"
      ],
      "metadata": {
        "colab": {
          "base_uri": "https://localhost:8080/"
        },
        "id": "rkWHflhBVcRw",
        "outputId": "c587af06-ed24-46ba-af32-5b82d6794661"
      },
      "execution_count": 40,
      "outputs": [
        {
          "output_type": "stream",
          "name": "stdout",
          "text": [
            "Total de vendas (n) = 5\n",
            "X = 4\n",
            "X = 6\n",
            "X = 9\n",
            "X = 8\n",
            "X = 2\n",
            "Soma de pares =  20 , Soma de ímpares =  9\n"
          ]
        }
      ]
    },
    {
      "cell_type": "markdown",
      "source": [
        "##Exercício 8\n"
      ],
      "metadata": {
        "id": "OkNQR8zIVws_"
      }
    },
    {
      "cell_type": "code",
      "source": [
        "#Exercícios 2.9\n",
        "# 8\n",
        "# Solução do autor\n",
        "\n",
        "n = int(input(\"N = \"))\n",
        "s = 0\n",
        "for i in range(1, n + 1):\n",
        "    s = s + (70 - i +1)/(7 * i)\n",
        "\n",
        "print(\"Soma = \", s)"
      ],
      "metadata": {
        "colab": {
          "base_uri": "https://localhost:8080/"
        },
        "id": "hm_xopjEVmbu",
        "outputId": "8380c527-f657-4341-eea1-028395071893"
      },
      "execution_count": 41,
      "outputs": [
        {
          "output_type": "stream",
          "name": "stdout",
          "text": [
            "N = 3\n",
            "Soma =  18.166666666666668\n"
          ]
        }
      ]
    },
    {
      "cell_type": "markdown",
      "source": [
        "##Exercício 9"
      ],
      "metadata": {
        "id": "5QpyEhslV9yQ"
      }
    },
    {
      "cell_type": "code",
      "source": [
        "# Exercícios 2.9\n",
        "# 9\n",
        "# Solução do autor\n",
        "\n",
        "n = int(input(\"N = \"))\n",
        "cpar = 0\n",
        "cimpar = 0\n",
        "for i in range(1, n+1):\n",
        "    x = int(input(\"Entre com um número inteiro = \"))\n",
        "    if x% 2 == 0:\n",
        "        cpar = cpar + 1\n",
        "    else:\n",
        "        cimpar = cimpar + 1\n",
        "\n",
        "print(\"Quantidade de pares = \", cpar, \", Quantidade de impar = \", cimpar)"
      ],
      "metadata": {
        "colab": {
          "base_uri": "https://localhost:8080/"
        },
        "id": "_FclPJWQV3sM",
        "outputId": "7fc56910-9679-4a25-8acd-8027c2cd2ce5"
      },
      "execution_count": 43,
      "outputs": [
        {
          "output_type": "stream",
          "name": "stdout",
          "text": [
            "N = 3\n",
            "Entre com um número inteiro = 10\n",
            "Entre com um número inteiro = 30\n",
            "Entre com um número inteiro = 5\n",
            "Quantidade de pares =  2 , Quantidade de impar =  1\n"
          ]
        }
      ]
    },
    {
      "cell_type": "markdown",
      "source": [
        "##Exercício 10"
      ],
      "metadata": {
        "id": "fOUd9QoKWpPs"
      }
    },
    {
      "cell_type": "code",
      "source": [
        "# Exercícios 2.9\n",
        "# 10\n",
        "# Solução do autor\n",
        "\n",
        "n = int(input(\"N = \"))\n",
        "x = float(input(\"X = \"))\n",
        "s = x\n",
        "imp = 1\n",
        "fat = 1\n",
        "for i in range(1, n):\n",
        "    fat = fat * i\n",
        "    imp = imp + 2\n",
        "    s = s + (x**imp)*(-1)**i/(imp * fat)\n",
        "\n",
        "print(\"Soma = \", s)"
      ],
      "metadata": {
        "id": "lPyB4kIcWIbE"
      },
      "execution_count": null,
      "outputs": []
    },
    {
      "cell_type": "markdown",
      "source": [
        "##Exercício 11"
      ],
      "metadata": {
        "id": "oSXZy5Z3WriT"
      }
    },
    {
      "cell_type": "code",
      "source": [
        "# Exercícios 2.9\n",
        "# 11\n",
        "# Solução do autor\n",
        "\n",
        "import math\n",
        "i = 0\n",
        "s = 0\n",
        "imp = 1\n",
        "dif = 10\n",
        "while dif > 0.001:\n",
        "    i = i + 1\n",
        "    s = s + 4*(-1)**(i + 1)/ imp\n",
        "    imp = imp + 2\n",
        "    dif = abs(s - math.pi)\n",
        "\n",
        "print(\"S = \", s,\"diferença = \", dif,\"termos = \", i)"
      ],
      "metadata": {
        "id": "LqRbAW9NWmKv"
      },
      "execution_count": null,
      "outputs": []
    },
    {
      "cell_type": "markdown",
      "source": [
        "##Exercício 12"
      ],
      "metadata": {
        "id": "MK-8Q5sMW0BL"
      }
    },
    {
      "cell_type": "code",
      "source": [
        "# Exercícios 2.9\n",
        "# 12\n",
        "# Solução do autor\n",
        "\n",
        "n = int(input(\"Número de termos (n) = \"))\n",
        "i = 2\n",
        "s = 1\n",
        "imp = 1\n",
        "\n",
        "while i < n:\n",
        "    imp = imp + 2\n",
        "    s = s + imp / i\n",
        "    i = i + 1\n",
        "print(\"S = \", s)"
      ],
      "metadata": {
        "colab": {
          "base_uri": "https://localhost:8080/"
        },
        "id": "AyW7Tdv9WxWY",
        "outputId": "8c7c0c18-6bd9-4308-e629-2a345abff7ef"
      },
      "execution_count": 44,
      "outputs": [
        {
          "output_type": "stream",
          "name": "stdout",
          "text": [
            "Número de termos (n) = 5\n",
            "S =  5.916666666666667\n"
          ]
        }
      ]
    },
    {
      "cell_type": "markdown",
      "source": [
        "##Exercício 13"
      ],
      "metadata": {
        "id": "LRLqtUAIXIZD"
      }
    },
    {
      "cell_type": "code",
      "source": [
        "# Exercícios 2.9\n",
        "# 13\n",
        "# Solução do autor\n",
        "\n",
        "lista = ['bbdc4','itub4','petr4','petr4','bbsa3','petr4','sanb4','petr4','bpac3','petr4']\n",
        "n = len(lista)\n",
        "i = 0\n",
        "while i < n:\n",
        "    elemento = lista[i]\n",
        "    i = i + 1\n",
        "    if elemento == 'petr4': continue\n",
        "    print(\"Ação de Banco :\", elemento)"
      ],
      "metadata": {
        "colab": {
          "base_uri": "https://localhost:8080/"
        },
        "id": "asXmeOgIWyHs",
        "outputId": "2cbc18ad-4f7e-42d6-bede-ca188f437f58"
      },
      "execution_count": 45,
      "outputs": [
        {
          "output_type": "stream",
          "name": "stdout",
          "text": [
            "Ação de Banco : bbdc4\n",
            "Ação de Banco : itub4\n",
            "Ação de Banco : bbsa3\n",
            "Ação de Banco : sanb4\n",
            "Ação de Banco : bpac3\n"
          ]
        }
      ]
    },
    {
      "cell_type": "markdown",
      "source": [
        "##Exercício 14"
      ],
      "metadata": {
        "id": "IBHjdoAAXORp"
      }
    },
    {
      "cell_type": "code",
      "source": [
        "# Exercícios 2.9\n",
        "# 14\n",
        "# Solução do autor\n",
        "\n",
        "lista = ['bbdc4','itub4','petr4','petr4','bbsa3','petr4','sanb4','petr4','bpac3','petr4']\n",
        "n = len(lista)\n",
        "i = 0\n",
        "while i < n:\n",
        "    elemento = lista[i]\n",
        "    if elemento == 'petr4':\n",
        "        print(\"Petrobras apareceu pela primeira vez no índice: \", i)\n",
        "        break\n",
        "    i = i + 1\n",
        "print(\"+++ Fim da impressão +++\")"
      ],
      "metadata": {
        "id": "KIGKBmJuXL2m"
      },
      "execution_count": null,
      "outputs": []
    },
    {
      "cell_type": "markdown",
      "source": [
        "##Exercício 15"
      ],
      "metadata": {
        "id": "SM1P8c57XS6P"
      }
    },
    {
      "cell_type": "code",
      "source": [
        "# Exercícios 2.9\n",
        "# 15\n",
        "# Solução do autor\n",
        "\n",
        "lista = ['bbdc4','itub4','petr4','bbsa3','petr4','sanb4','petr4','bpac3','petr4']\n",
        "n = len(lista)\n",
        "i = 0\n",
        "aparicao = 0\n",
        "while i < n:\n",
        "    elemento = lista[i]\n",
        "    if elemento == 'petr4':\n",
        "        aparicao = aparicao + 1\n",
        "        if aparicao == 2:\n",
        "            print(\"Petrobras aparece a segunda vez no índice: \", i)\n",
        "            break\n",
        "    i = i + 1\n",
        "print(\"+++ Fim da impressão +++\")"
      ],
      "metadata": {
        "colab": {
          "base_uri": "https://localhost:8080/"
        },
        "id": "1q_uHOfcXT8S",
        "outputId": "37310137-eacc-439b-dc08-86f05c0178c5"
      },
      "execution_count": 46,
      "outputs": [
        {
          "output_type": "stream",
          "name": "stdout",
          "text": [
            "Petrobras aparece a segunda vez no índice:  4\n",
            "+++ Fim da impressão +++\n"
          ]
        }
      ]
    },
    {
      "cell_type": "markdown",
      "source": [
        "##Exercício 16"
      ],
      "metadata": {
        "id": "su1NSET5XZbI"
      }
    },
    {
      "cell_type": "code",
      "source": [
        "# Exercícios 2.9\n",
        "# 16\n",
        "# Solução do autor\n",
        "\n",
        "Palavras = [['comprar','vender'],['manter','alertar','indicar'],['tendencia','crash','lucro']]\n",
        "i = 1\n",
        "for p in Palavras:\n",
        "    print('elemento ',i, '=',p)\n",
        "    i = i + 1"
      ],
      "metadata": {
        "colab": {
          "base_uri": "https://localhost:8080/"
        },
        "id": "b8SuCDN_XWXI",
        "outputId": "26299184-57ca-4b66-bf16-d3a9a15753a8"
      },
      "execution_count": 49,
      "outputs": [
        {
          "output_type": "stream",
          "name": "stdout",
          "text": [
            "elemento  1 = ['comprar', 'vender']\n",
            "elemento  2 = ['manter', 'alertar', 'indicar']\n",
            "elemento  3 = ['tendencia', 'crash', 'lucro']\n"
          ]
        }
      ]
    },
    {
      "cell_type": "markdown",
      "source": [
        "##Exercício 17"
      ],
      "metadata": {
        "id": "AirVvwhHXfp5"
      }
    },
    {
      "cell_type": "code",
      "source": [
        "# Exercícios 2.9\n",
        "# 17\n",
        "# Solução do autor\n",
        "\n",
        "Palavras = [['comprar','vender'],['manter','alertar','indicar'],['tendencia','crash','lucro']]\n",
        "i = 1 #Pra que?\n",
        "for a in Palavras:\n",
        "    for num in a:\n",
        "        print(num)"
      ],
      "metadata": {
        "colab": {
          "base_uri": "https://localhost:8080/"
        },
        "id": "P5NLEF7TXcxy",
        "outputId": "c895f912-99d1-4dff-9309-fa01f891f1a2"
      },
      "execution_count": 50,
      "outputs": [
        {
          "output_type": "stream",
          "name": "stdout",
          "text": [
            "comprar\n",
            "vender\n",
            "manter\n",
            "alertar\n",
            "indicar\n",
            "tendencia\n",
            "crash\n",
            "lucro\n"
          ]
        }
      ]
    },
    {
      "cell_type": "code",
      "source": [
        "# Minha solução\n",
        "Palavras = [['comprar','vender'],['manter','alertar','indicar'],['tendencia','crash','lucro']]\n",
        "for p in Palavras:\n",
        "    for i in p:\n",
        "        print(i)"
      ],
      "metadata": {
        "colab": {
          "base_uri": "https://localhost:8080/"
        },
        "id": "j44JA-vUXjTH",
        "outputId": "097ba774-65ea-4f02-c139-fa86cc36fc72"
      },
      "execution_count": 51,
      "outputs": [
        {
          "output_type": "stream",
          "name": "stdout",
          "text": [
            "comprar\n",
            "vender\n",
            "manter\n",
            "alertar\n",
            "indicar\n",
            "tendencia\n",
            "crash\n",
            "lucro\n"
          ]
        }
      ]
    },
    {
      "cell_type": "markdown",
      "source": [
        "##Exercício 18"
      ],
      "metadata": {
        "id": "CKTHHAWLXted"
      }
    },
    {
      "cell_type": "code",
      "source": [
        "# Exercícios 2.9\n",
        "# 18\n",
        "# Solução do autor\n",
        "\n",
        "import statistics as st\n",
        "Lista = [[1,2,-1],[3,-1,4,5],[0,0,1,2,-1],[-1,-1,2,2,-1,2,-1],[3,2,0],[1,1,-1,0,2]]\n",
        "i = 1\n",
        "Lista_nova =[]\n",
        "for x in Lista:\n",
        "    for num in x:\n",
        "        Lista_nova.append(num)\n",
        "print(Lista_nova)\n",
        "soma = sum(Lista_nova)\n",
        "maximo = max(Lista_nova)\n",
        "minimo = min(Lista_nova)\n",
        "media = st.mean(Lista_nova)\n",
        "moda = st.mode(Lista_nova)\n",
        "desviop = st.pstdev(Lista_nova)\n",
        "print(\"++++++++ RESULTADOS FINAIS ++++++++\")\n",
        "print('%6.2f %6.2f %6.2f %6.2f %6.2f %6.2f' % (soma, maximo, minimo, media, moda, desviop))"
      ],
      "metadata": {
        "colab": {
          "base_uri": "https://localhost:8080/"
        },
        "id": "hYHWoeKAXpce",
        "outputId": "c6c0028f-dd83-4b39-a728-9891f6680d58"
      },
      "execution_count": 52,
      "outputs": [
        {
          "output_type": "stream",
          "name": "stdout",
          "text": [
            "[1, 2, -1, 3, -1, 4, 5, 0, 0, 1, 2, -1, -1, -1, 2, 2, -1, 2, -1, 3, 2, 0, 1, 1, -1, 0, 2]\n",
            "++++++++ RESULTADOS FINAIS ++++++++\n",
            " 25.00   5.00  -1.00   0.93  -1.00   1.68\n"
          ]
        }
      ]
    },
    {
      "cell_type": "code",
      "source": [
        "# Minha solução\n",
        "import statistics as st\n",
        "Lista = [[1,2,-1],[3,-1,4,5],[0,0,1,2,-1],[-1,-1,2,2,-1,2,-1],[3,2,0],[1,1,-1,0,2]]\n",
        "Lista_nova =[]\n",
        "for i in Lista:\n",
        "    for j in i:\n",
        "        Lista_nova.append(j)\n",
        "print(\"++++++++++++++++++++++++++++ Resultado ++++++++++++++++++++++++++\")\n",
        "print(\"A nova lista: \",Lista_nova)\n",
        "print(\"A Soma dos elementos dessa nova lista:\", sum(Lista_nova))\n",
        "print(\"O maior elemento dessa nova lista:\", max(Lista_nova))\n",
        "print(\"O menor elemento dessa nova lista:\", min(Lista_nova))\n",
        "print(\"A média de elementos dessa lista:%.2f\" % st.mean(Lista_nova))\n",
        "print(\"A moda de elementos dessa lista:%.2f\" % st.mode(Lista_nova))\n",
        "print(\"O desvio-padrão populacional dessa lista:%.2f\" % st.pstdev(Lista_nova))"
      ],
      "metadata": {
        "colab": {
          "base_uri": "https://localhost:8080/"
        },
        "id": "z9CSJBVLXyHN",
        "outputId": "e361c0d2-6c26-406c-de18-a4d0037274e4"
      },
      "execution_count": 53,
      "outputs": [
        {
          "output_type": "stream",
          "name": "stdout",
          "text": [
            "++++++++++++++++++++++++++++ Resultado ++++++++++++++++++++++++++\n",
            "A nova lista:  [1, 2, -1, 3, -1, 4, 5, 0, 0, 1, 2, -1, -1, -1, 2, 2, -1, 2, -1, 3, 2, 0, 1, 1, -1, 0, 2]\n",
            "A Soma dos elementos dessa nova lista: 25\n",
            "O maior elemento dessa nova lista: 5\n",
            "O menor elemento dessa nova lista: -1\n",
            "A média de elementos dessa lista:0.93\n",
            "A moda de elementos dessa lista:-1.00\n",
            "O desvio-padrão populacional dessa lista:1.68\n"
          ]
        }
      ]
    },
    {
      "cell_type": "markdown",
      "source": [
        "##Exercício 19"
      ],
      "metadata": {
        "id": "30z4KS_3X_ir"
      }
    },
    {
      "cell_type": "code",
      "source": [
        "# Exercícios 2.9\n",
        "# 19\n",
        "# Solução do autor\n",
        "\n",
        "Lista = [['ontem','hoje','amanhã'],['sp','rj','mg','ce'],['são paulo','rio','santos','cuibá']]\n",
        "i = 1 #Pra que?\n",
        "Lista_nova = []\n",
        "for x in Lista:\n",
        "    for palav in x:\n",
        "        Lista_nova.append(palav)\n",
        "\n",
        "print(\"++++++++++ Nova Lista ++++++++++\")\n",
        "print(Lista_nova)\n",
        "print(\"++++++++++ Lista Estendida ++++++++++\")\n",
        "print(Lista_nova)\n",
        "Lista_nova.extend(['férias','negócios'])\n",
        "print(Lista_nova)\n",
        "print(\"++++++++++ Lista Ordem Alfabética ++++++++++\")\n",
        "Lista_nova.sort()\n",
        "print(Lista_nova)"
      ],
      "metadata": {
        "colab": {
          "base_uri": "https://localhost:8080/"
        },
        "id": "FUoTrnBOX2NZ",
        "outputId": "b0be09c5-1f3e-4ace-b516-e389d213736d"
      },
      "execution_count": 54,
      "outputs": [
        {
          "output_type": "stream",
          "name": "stdout",
          "text": [
            "++++++++++ Nova Lista ++++++++++\n",
            "['ontem', 'hoje', 'amanhã', 'sp', 'rj', 'mg', 'ce', 'são paulo', 'rio', 'santos', 'cuibá']\n",
            "++++++++++ Lista Estendida ++++++++++\n",
            "['ontem', 'hoje', 'amanhã', 'sp', 'rj', 'mg', 'ce', 'são paulo', 'rio', 'santos', 'cuibá']\n",
            "['ontem', 'hoje', 'amanhã', 'sp', 'rj', 'mg', 'ce', 'são paulo', 'rio', 'santos', 'cuibá', 'férias', 'negócios']\n",
            "++++++++++ Lista Ordem Alfabética ++++++++++\n",
            "['amanhã', 'ce', 'cuibá', 'férias', 'hoje', 'mg', 'negócios', 'ontem', 'rio', 'rj', 'santos', 'sp', 'são paulo']\n"
          ]
        }
      ]
    },
    {
      "cell_type": "code",
      "source": [
        "# Minha solução\n",
        "Lista = [['ontem','hoje','amanhã'],['sp','rj','mg','ce'],['são paulo','rio','santos','cuibá']]\n",
        "Lista_nova = []\n",
        "\n",
        "for i in Lista:\n",
        "    for j in i:\n",
        "        Lista_nova.append(j)\n",
        "\n",
        "add = ['férias','negócios']\n",
        "Lista_nova.extend(add)\n",
        "Lista_nova.sort()\n",
        "print(Lista_nova)"
      ],
      "metadata": {
        "colab": {
          "base_uri": "https://localhost:8080/"
        },
        "id": "jkcCbtRLYD1m",
        "outputId": "b6d37a49-6986-4f68-af87-fe041f710b78"
      },
      "execution_count": 55,
      "outputs": [
        {
          "output_type": "stream",
          "name": "stdout",
          "text": [
            "['amanhã', 'ce', 'cuibá', 'férias', 'hoje', 'mg', 'negócios', 'ontem', 'rio', 'rj', 'santos', 'sp', 'são paulo']\n"
          ]
        }
      ]
    },
    {
      "cell_type": "markdown",
      "source": [
        "##Exercício 20"
      ],
      "metadata": {
        "id": "lV_GtpeoYPRQ"
      }
    },
    {
      "cell_type": "code",
      "source": [
        "# Exercícios 2.9\n",
        "# 20\n",
        "# Solução do autor\n",
        "\n",
        "let = ['a','b','c','a','d','f','a','b','b','d','c']\n",
        "i = 1 # Pra que?\n",
        "let_nov = []\n",
        "\n",
        "for i in let:\n",
        "    if i not in let_nov:\n",
        "        let_nov.append(i)\n",
        "\n",
        "print(\"+++++++++++ Nova Lista +++++++++++\")\n",
        "print(let_nov)"
      ],
      "metadata": {
        "colab": {
          "base_uri": "https://localhost:8080/"
        },
        "id": "yZuxjJljYG9a",
        "outputId": "55b56e5c-e224-4291-9034-ac6bcba3f0e9"
      },
      "execution_count": 56,
      "outputs": [
        {
          "output_type": "stream",
          "name": "stdout",
          "text": [
            "+++++++++++ Nova Lista +++++++++++\n",
            "['a', 'b', 'c', 'd', 'f']\n"
          ]
        }
      ]
    },
    {
      "cell_type": "code",
      "source": [
        "# Minha solução\n",
        "let = ['a','b','c','a','d','f','a','b','b','d','c']\n",
        "nova_lista = []\n",
        "\n",
        "let.sort()\n",
        "\n",
        "anterior = []\n",
        "for i in let:\n",
        "    if i == anterior:\n",
        "       continue\n",
        "    anterior = i\n",
        "    nova_lista.append(i)\n",
        "\n",
        "print(\"Nova lista sem repetição:\",nova_lista)"
      ],
      "metadata": {
        "colab": {
          "base_uri": "https://localhost:8080/"
        },
        "id": "sJfrKMAfYSvx",
        "outputId": "5b5fc694-1869-4def-9929-76f0b113060f"
      },
      "execution_count": 57,
      "outputs": [
        {
          "output_type": "stream",
          "name": "stdout",
          "text": [
            "Nova lista sem repetição: ['a', 'b', 'c', 'd', 'f']\n"
          ]
        }
      ]
    }
  ]
}