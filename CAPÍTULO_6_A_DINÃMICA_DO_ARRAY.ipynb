{
  "nbformat": 4,
  "nbformat_minor": 0,
  "metadata": {
    "colab": {
      "provenance": [],
      "toc_visible": true,
      "authorship_tag": "ABX9TyOwhGyvgIGRidI0MlW5kAeP",
      "include_colab_link": true
    },
    "kernelspec": {
      "name": "python3",
      "display_name": "Python 3"
    },
    "language_info": {
      "name": "python"
    }
  },
  "cells": [
    {
      "cell_type": "markdown",
      "metadata": {
        "id": "view-in-github",
        "colab_type": "text"
      },
      "source": [
        "<a href=\"https://colab.research.google.com/github/GustavoRosso/PythonEMercadoFinanceiro/blob/main/CAP%C3%8DTULO_6_A_DIN%C3%83MICA_DO_ARRAY.ipynb\" target=\"_parent\"><img src=\"https://colab.research.google.com/assets/colab-badge.svg\" alt=\"Open In Colab\"/></a>"
      ]
    },
    {
      "cell_type": "markdown",
      "source": [
        "#CAPÍTULO 6 - A DINÃMICA DO ARRAY"
      ],
      "metadata": {
        "id": "RNVxMYuIEq-f"
      }
    },
    {
      "cell_type": "markdown",
      "source": [
        "#Exemplos"
      ],
      "metadata": {
        "id": "JepO346vVgfD"
      }
    },
    {
      "cell_type": "markdown",
      "source": [
        "##Exemplo 6.1"
      ],
      "metadata": {
        "id": "Qa37WLVn9OLQ"
      }
    },
    {
      "cell_type": "code",
      "source": [
        "# Exemplo 6.1\n",
        "#Box-plot\n",
        "\n",
        "import xlrd\n",
        "import matplotlib.pyplot as fig\n",
        "import numpy as np\n",
        "\n",
        "wb = xlrd.open_workbook('Ibov.xlsx')\n",
        "\n",
        "#------------------------------------------------------------------------------\n",
        "#seleciona a primeira \"Planilha\"\n",
        "#------------------------------------------------------------------------------\n",
        "plan = wb.sheet_by_name(\"Ibov\")\n",
        "\n",
        "lin = plan.nrows\n",
        "co = plan.ncols\n",
        "\n",
        "op = np.zeros(lin)\n",
        "hig = np.zeros(lin)\n",
        "low = np.zeros(lin)\n",
        "clse = np.zeros(lin)\n",
        "\n",
        "for i in range(lin):\n",
        "    op[i] = plan.cell(i,0).value\n",
        "    hig[i] = plan.cell(i,1).value\n",
        "    low[i] = plan.cell(i,2).value\n",
        "    clse[i] = plan.cell(i,3).value\n",
        "\n",
        "#Gráfico simples\n",
        "#fig.boxplot([op,hig,low,clse])\n",
        "\n",
        "#Gráfico melhorado\n",
        "fig.boxplot([op,hig,low,clse],notch = 'True', patch_artist = True,labels =\n",
        "            ['abertura','alta','baixa','fechamento'],)"
      ],
      "metadata": {
        "id": "95KZpo9_E0nI"
      },
      "execution_count": null,
      "outputs": []
    },
    {
      "cell_type": "markdown",
      "source": [
        "##Exemplo 6.2"
      ],
      "metadata": {
        "id": "vkaLjsfHFPk6"
      }
    },
    {
      "cell_type": "code",
      "source": [
        "# Exemplo 6.2\n",
        "# Tendencia Linear\n",
        "\n",
        "import xlrd\n",
        "import statistics as estat\n",
        "import matplotlib.pyplot as fig\n",
        "import numpy as np\n",
        "import matplotlib.mlab as m\n",
        "\n",
        "wb = xlrd.open_workbook('Titulos.xlsx')\n",
        "\n",
        "#------------------------------------------------------------------------------\n",
        "#seleciona a primeira \"Planilha\"\n",
        "#------------------------------------------------------------------------------\n",
        "plan = wb.sheet_by_name('Planilha1')\n",
        "\n",
        "lin = plan.nrows\n",
        "co = plan.ncols\n",
        "\n",
        "op = np.zeros(lin)\n",
        "\n",
        "for i in range(lin):\n",
        "    op[i] = plan.cell(i,0).value\n",
        "\n",
        "x = np.linspace(1,lin,lin)\n",
        "\n",
        "coef = np.polyfit(x,op,1)\n",
        "\n",
        "tendencia = coef[1] + coef[0] * x\n",
        "\n",
        "print('++++++ coeficientes tendencia linear y = b + ax +++++++')\n",
        "print('a = ', coef[0],'  b = ', coef[1])"
      ],
      "metadata": {
        "id": "DcpZr8yCFy5s"
      },
      "execution_count": null,
      "outputs": []
    },
    {
      "cell_type": "markdown",
      "source": [
        "##Exemplo 6.3"
      ],
      "metadata": {
        "id": "YVhdzQy_F4B5"
      }
    },
    {
      "cell_type": "code",
      "source": [
        "# Exemplo 6.3\n",
        "# Tendencia Linear\n",
        "# Gráficos ficaram diferentes, por causa do banco de dados utilizado\n",
        "\n",
        "import xlrd\n",
        "import statistics as estat\n",
        "import matplotlib.pyplot as fig\n",
        "import numpy as np\n",
        "import matplotlib.mlab as m\n",
        "\n",
        "wb = xlrd.open_workbook('Titulos.xlsx')\n",
        "\n",
        "#------------------------------------------------------------------------------\n",
        "#seleciona a primeira \"Planilha\"\n",
        "#------------------------------------------------------------------------------\n",
        "plan = wb.sheet_by_name('Planilha1')\n",
        "\n",
        "lin = plan.nrows\n",
        "col = plan.ncols\n",
        "\n",
        "op = np.zeros(lin)\n",
        "\n",
        "for i in range(lin):\n",
        "    op[i] = plan.cell(i,0).value\n",
        "\n",
        "x = np.linspace(1,lin,lin)\n",
        "\n",
        "coef = np.polyfit(x,op,1)\n",
        "\n",
        "tendencia = coef[1] + coef[0] * x\n",
        "\n",
        "print('++++++ coeficientes tendencia linear y = b + ax +++++++')\n",
        "print('a = ', coef[0],'  b = ', coef[1])\n",
        "\n",
        "fig.plot(x,op,'-k',x,tendencia,'--k')\n",
        "fig.xlabel('Dias')\n",
        "fig.title('Titulos NTNB-principal 2045 (Selic+IPCA)')\n",
        "\n",
        "filtro = m.detrend_linear(op)\n",
        "fig.figure()\n",
        "fig.plot(x,filtro,'-k')\n",
        "fig.xlabel('Dias')\n",
        "fig.title('Dados com remoção da linha de tendência linear')"
      ],
      "metadata": {
        "id": "yEhjqXHfFIZB"
      },
      "execution_count": null,
      "outputs": []
    },
    {
      "cell_type": "markdown",
      "source": [
        "##Exemplo 6.4"
      ],
      "metadata": {
        "id": "QeUJ3GJkHaSW"
      }
    },
    {
      "cell_type": "code",
      "source": [
        "# Exemplo 6.4\n",
        "# Vetor\n",
        "\n",
        "import numpy as np\n",
        "\n",
        "x = np.array([2,5,7,4,10,80,1,2])\n",
        "y = np.array([-3,-5,2,1,4,-5,3,20])\n",
        "\n",
        "indmx = x.argmax()\n",
        "indmin = x.argmin()\n",
        "\n",
        "y_mx = y[indmx]\n",
        "y_min = y[indmin]\n",
        "print('++++++++++++++++++++++++++++++')\n",
        "print('ind máx de x = ', indmx)\n",
        "print('ind min de x = ', indmin)\n",
        "print('ymáximo = ', y_mx, 'ymínimo = ',y_min)"
      ],
      "metadata": {
        "colab": {
          "base_uri": "https://localhost:8080/"
        },
        "id": "xu39lqxlHbXq",
        "outputId": "1a588201-6973-427c-b3f1-1732a4b24c72"
      },
      "execution_count": null,
      "outputs": [
        {
          "output_type": "stream",
          "name": "stdout",
          "text": [
            "++++++++++++++++++++++++++++++\n",
            "ind máx de x =  5\n",
            "ind min de x =  6\n",
            "ymáximo =  -5 ymínimo =  3\n"
          ]
        }
      ]
    },
    {
      "cell_type": "markdown",
      "source": [
        "##Exemplo 6.5"
      ],
      "metadata": {
        "id": "m5CcTTNgJGJa"
      }
    },
    {
      "cell_type": "code",
      "source": [
        "# Exemplo 6.5\n",
        "# Vetor\n",
        "\n",
        "import numpy as np\n",
        "\n",
        "x = np.array([2,5,7,4,10,80,1,2])\n",
        "y = np.array([-3,-5,2,1,4,-5,3,20])\n",
        "xx = x.reshape(2,4)\n",
        "yy = y.reshape(2,4)\n",
        "z = xx**2 + 10*yy\n",
        "\n",
        "print('++++++++++++++++++++++++++++++')\n",
        "print('xx = ', xx)\n",
        "print('++++++++++++++++++++++++++++++')\n",
        "print('yy = ', yy)\n",
        "print('++++++++++++++++++++++++++++++')\n",
        "print('z = ', z)"
      ],
      "metadata": {
        "colab": {
          "base_uri": "https://localhost:8080/"
        },
        "id": "1tsEiPYKHeQD",
        "outputId": "114af5cd-2564-4f1b-c580-09d96aee2dac"
      },
      "execution_count": null,
      "outputs": [
        {
          "output_type": "stream",
          "name": "stdout",
          "text": [
            "++++++++++++++++++++++++++++++\n",
            "xx =  [[ 2  5  7  4]\n",
            " [10 80  1  2]]\n",
            "++++++++++++++++++++++++++++++\n",
            "yy =  [[-3 -5  2  1]\n",
            " [ 4 -5  3 20]]\n",
            "++++++++++++++++++++++++++++++\n",
            "z =  [[ -26  -25   69   26]\n",
            " [ 140 6350   31  204]]\n"
          ]
        }
      ]
    },
    {
      "cell_type": "markdown",
      "source": [
        "##Exemplo 6.6"
      ],
      "metadata": {
        "id": "VUSfiZgvJJ4m"
      }
    },
    {
      "cell_type": "code",
      "source": [
        "# Exemplo 6.6\n",
        "# Vetor\n",
        "\n",
        "import numpy as np\n",
        "\n",
        "x = np.array([2,5,7,4,10,80,1,2,1,2])\n",
        "y = np.array([3,5,2,1,4,5,3,20,5,10])\n",
        "y.sort()\n",
        "z = x-y\n",
        "print(z)"
      ],
      "metadata": {
        "colab": {
          "base_uri": "https://localhost:8080/"
        },
        "id": "TpRtwXgNJEQy",
        "outputId": "884fde1d-97fd-48d4-ed94-03cdb061a649"
      },
      "execution_count": null,
      "outputs": [
        {
          "output_type": "stream",
          "name": "stdout",
          "text": [
            "[  1   3   4   1   6  75  -4  -3  -9 -18]\n"
          ]
        }
      ]
    },
    {
      "cell_type": "markdown",
      "source": [
        "##Exemplo 6.7"
      ],
      "metadata": {
        "id": "5GCWSmjKJQXd"
      }
    },
    {
      "cell_type": "code",
      "source": [
        "# Exemplo 6.7\n",
        "# Matriz\n",
        "\n",
        "import numpy as np\n",
        "\n",
        "A = np.array([[2,5,7],[4,10,1],[1,2,1]])\n",
        "par = 0\n",
        "imp = 0\n",
        "for elem in A:\n",
        "    for x in elem:\n",
        "        if x % 2 == 0:\n",
        "            par = par + 1\n",
        "        else:\n",
        "            imp = imp + 1\n",
        "\n",
        "print('Número de pares = ', par,  'número de ímpares = ', imp)"
      ],
      "metadata": {
        "colab": {
          "base_uri": "https://localhost:8080/"
        },
        "id": "_eXxTw8gJOkY",
        "outputId": "85a7beae-fe46-424c-fd17-20d9834ae601"
      },
      "execution_count": null,
      "outputs": [
        {
          "output_type": "stream",
          "name": "stdout",
          "text": [
            "Número de pares =  4 número de ímpares =  5\n"
          ]
        }
      ]
    },
    {
      "cell_type": "code",
      "source": [
        "# Segunda maneira de programar esse código\n",
        "\n",
        "import numpy as np\n",
        "\n",
        "A = np.array([[2,5,7],[4,10,1],[1,2,1]])\n",
        "\n",
        "form = A.shape\n",
        "\n",
        "tot_lin = form[0]\n",
        "tot_col = form[1]\n",
        "\n",
        "par = 0\n",
        "imp = 0\n",
        "for i in range(tot_lin):\n",
        "    for j in range(tot_col):\n",
        "        if A[i,j] % 2 ==0:\n",
        "            par = par + 1\n",
        "        else:\n",
        "            imp = imp + 1\n",
        "\n",
        "print('Número de pares = ', par,  'número de ímpares = ', imp)"
      ],
      "metadata": {
        "colab": {
          "base_uri": "https://localhost:8080/"
        },
        "id": "x-AMAqXxJaFi",
        "outputId": "3b8b2b46-aa94-43c4-e854-ea6c15f4fca8"
      },
      "execution_count": null,
      "outputs": [
        {
          "output_type": "stream",
          "name": "stdout",
          "text": [
            "Número de pares =  4 número de ímpares =  5\n"
          ]
        }
      ]
    },
    {
      "cell_type": "markdown",
      "source": [
        "##Exemplo 6.8"
      ],
      "metadata": {
        "id": "6gybgRHqJhMB"
      }
    },
    {
      "cell_type": "code",
      "source": [
        "# Exemplo 6.8\n",
        "# Matriz\n",
        "\n",
        "import numpy as np\n",
        "\n",
        "A = np.array([[2,5,7],[4,10,-1],[1,2,1]])\n",
        "\n",
        "i,j = np.where(A == A.max())\n",
        "print('+++++++++++++++++++++++++++++++++++++++++++++++++++++++++++++++++++++')\n",
        "print('Linha do máximo = ', i, ' coluna do máximo = ',j)\n",
        "print('Elemento máximo = ', A[i,j])"
      ],
      "metadata": {
        "colab": {
          "base_uri": "https://localhost:8080/"
        },
        "id": "eXrIwN9zJcg2",
        "outputId": "967810b8-5ce6-4af6-e69b-3706af347b19"
      },
      "execution_count": null,
      "outputs": [
        {
          "output_type": "stream",
          "name": "stdout",
          "text": [
            "+++++++++++++++++++++++++++++++++++++++++++++++++++++++++++++++++++++\n",
            "Linha do máximo =  [1]  coluna do máximo =  [1]\n",
            "Elemento máximo =  [10]\n"
          ]
        }
      ]
    },
    {
      "cell_type": "code",
      "source": [
        "# Segunda maneira de programar esse código\n",
        "\n",
        "import numpy as np\n",
        "\n",
        "A = np.array([[2,5,7],[4,10,1],[1,2,1]])\n",
        "tam = A.shape\n",
        "totL = tam[0]\n",
        "totC = tam[1]\n",
        "maximo = A[0,0]\n",
        "for i in range(totL):\n",
        "    for j in range(totC):\n",
        "        if A[i,j] >= maximo:\n",
        "            maximo = A[i,j]\n",
        "            lin = i\n",
        "            col = j\n",
        "\n",
        "print('+++++++++++++++++++++++++++++++++++++++++++++++++++++++++++++++++++++')\n",
        "print('Linha do máximo = ', lin,' coluna do máximo = ', col)\n",
        "print('Elemento máximo = ', A[lin, col])"
      ],
      "metadata": {
        "colab": {
          "base_uri": "https://localhost:8080/"
        },
        "id": "B5zD5VgDJl6x",
        "outputId": "4fefbb2b-47f3-4fb8-abda-528aa0cfee73"
      },
      "execution_count": null,
      "outputs": [
        {
          "output_type": "stream",
          "name": "stdout",
          "text": [
            "+++++++++++++++++++++++++++++++++++++++++++++++++++++++++++++++++++++\n",
            "Linha do máximo =  1  coluna do máximo =  1\n",
            "Elemento máximo =  10\n"
          ]
        }
      ]
    },
    {
      "cell_type": "markdown",
      "source": [
        "##Exemplo 6.9"
      ],
      "metadata": {
        "id": "eL5Gd4fSJ00f"
      }
    },
    {
      "cell_type": "code",
      "source": [
        "# Exemplo 6.9\n",
        "# Matriz\n",
        "\n",
        "import numpy as np\n",
        "\n",
        "A = np.array([[2000,1000,500,5000],[1000,2500,2000,0]])\n",
        "B = np.array([30.43,13.91,7.42,47.96])\n",
        "C = np.matmul(A,B)\n",
        "print('+++++++++++++++++++++++++++++++++++++++++++++++++++++++++++++++')\n",
        "print('João = ', C[0],' Maria = ', C[1])"
      ],
      "metadata": {
        "colab": {
          "base_uri": "https://localhost:8080/"
        },
        "id": "fI03ldOUJoRH",
        "outputId": "3129b3fe-27b6-4848-f8cf-360f44634bbf"
      },
      "execution_count": null,
      "outputs": [
        {
          "output_type": "stream",
          "name": "stdout",
          "text": [
            "+++++++++++++++++++++++++++++++++++++++++++++++++++++++++++++++\n",
            "João =  318280.0  Maria =  80045.0\n"
          ]
        }
      ]
    },
    {
      "cell_type": "markdown",
      "source": [
        "##Exemplo 6.10"
      ],
      "metadata": {
        "id": "hUcmiTwEJ5VW"
      }
    },
    {
      "cell_type": "code",
      "source": [
        "# Exemplo 6.10\n",
        "# Matriz\n",
        "\n",
        "import numpy as np\n",
        "from numpy.linalg import solve\n",
        "\n",
        "A = np.array([[0.15,0.1,0.06],[-1,-1,1],[1,1,1]])\n",
        "B = np.array([20000,0,200000])\n",
        "X = solve(A,B)\n",
        "print('+++++++++++++++++++++++++++++++++++++++++++++++++++++++++++++++')\n",
        "print('Alto Risco = ',X[0])\n",
        "print('Média Risco = ',X[1])\n",
        "print('Baixo Risco = ',X[2])"
      ],
      "metadata": {
        "colab": {
          "base_uri": "https://localhost:8080/"
        },
        "id": "hPy0QoywJ4U5",
        "outputId": "f0f2b32d-6e29-4038-aeb4-43f3c1a610d5"
      },
      "execution_count": null,
      "outputs": [
        {
          "output_type": "stream",
          "name": "stdout",
          "text": [
            "+++++++++++++++++++++++++++++++++++++++++++++++++++++++++++++++\n",
            "Alto Risco =  80000.0\n",
            "Média Risco =  20000.000000000004\n",
            "Baixo Risco =  100000.0\n"
          ]
        }
      ]
    },
    {
      "cell_type": "markdown",
      "source": [
        "##Exemplo 6.11"
      ],
      "metadata": {
        "id": "LEBzVioZJ-Bg"
      }
    },
    {
      "cell_type": "code",
      "source": [
        "# Exemplo 6.11\n",
        "# PETR4 e NTNB 2045 para matriz\n",
        "# Banco de dados um pouco diferente do utilizado no livro, devidido a fonte dos dados\n",
        "\n",
        "import numpy as np\n",
        "import xlrd\n",
        "import matplotlib.pyplot as fig\n",
        "\n",
        "wb = xlrd.open_workbook('PetrTitul.xlsx')\n",
        "plan = wb.sheet_by_name('Planilha1')\n",
        "lin = plan.nrows\n",
        "col = plan.ncols\n",
        "\n",
        "mat = np.zeros((lin,col))\n",
        "\n",
        "for i in range(lin):\n",
        "    for j in range(col):\n",
        "        mat[i,j] = plan.cell(i,j).value\n",
        "\n",
        "print(mat)\n",
        "\n",
        "eixox = np.arange(lin)\n",
        "ax1 = fig.subplot(111)\n",
        "\n",
        "ax1.plot(eixox,mat[:,0],'-k')\n",
        "ax1.set_xlabel('Dias', fontsize = 14)\n",
        "ax1.set_ylabel('PETR4', fontsize = 14)\n",
        "ax1.set_title('Comparação PETR4 X Títulos NTNB-principal 2045 em 2019')\n",
        "ax1.text(140,24.5, s = 'PETR4', fontsize = 14) # Posição do texto alterada,\n",
        "fig.grid()                                     # devido banco de dados diferente\n",
        "\n",
        "ax2 = ax1.twinx()\n",
        "ax2.plot(eixox,mat[:,1], '--k')\n",
        "ax2.set_ylabel('NTNB-principal 2045', fontsize = 14)\n",
        "ax2.text(138,1410, s = 'Títulos', fontsize = 14) # Posição do texto alterada,\n",
        "                                                 # devido banco de dados diferente"
      ],
      "metadata": {
        "id": "C9MR4V7aJ89B"
      },
      "execution_count": null,
      "outputs": []
    },
    {
      "cell_type": "markdown",
      "source": [
        "##Exemplo 6.12"
      ],
      "metadata": {
        "id": "uCU5xHzxKIo5"
      }
    },
    {
      "cell_type": "code",
      "source": [
        "# Exemplo 6.12\n",
        "# PETR4 e NTNB 2045 para matriz\n",
        "# Banco de dados um pouco diferente do utilizado no livro, devidido a fonte dos dados\n",
        "\n",
        "import numpy as np\n",
        "import xlrd\n",
        "import matplotlib.pyplot as fig\n",
        "import math as mt\n",
        "from scipy import stats\n",
        "\n",
        "wb = xlrd.open_workbook('PetrTitul.xlsx')\n",
        "plan = wb.sheet_by_name('Planilha1')\n",
        "lin = plan.nrows\n",
        "col = plan.ncols\n",
        "\n",
        "mat = np.zeros((lin,col))\n",
        "\n",
        "for i in range(lin):\n",
        "    for j in range(col):\n",
        "        mat[i,j] = plan.cell(i,j).value\n",
        "\n",
        "print(mat)\n",
        "\n",
        "eixox = np.arange(lin)\n",
        "ax1 = fig.subplot(211)\n",
        "\n",
        "ax1.plot(eixox,mat[:,0],'-k')\n",
        "ax1.set_xlabel('Dias', fontsize = 14)\n",
        "ax1.set_ylabel('PETR4', fontsize = 14)\n",
        "ax1.set_title('Comparação PETR4 X Títulos NTNB-principal 2045 em 2019')\n",
        "ax1.text(140,24.5, s = 'PETR4', fontsize = 14) # Posição do texto alterada,\n",
        "fig.grid()                                     # devido banco de dados diferente\n",
        "\n",
        "ax2 = ax1.twinx()\n",
        "ax2.plot(eixox,mat[:,1], '--k')\n",
        "ax2.set_ylabel('NTNB-principal 2045', fontsize = 14)\n",
        "ax2.text(138,1410, s = 'Títulos', fontsize = 14) # Posição do texto alterada,\n",
        "                                                 # devido banco de dados diferente\n",
        "\n",
        "ret1 = (mat[1:lin-1,0] - mat[0:lin-2,0])/mat[0:lin-2,0]\n",
        "ret2 = (mat[1:lin-1,1] - mat[0:lin-2,1])/mat[0:lin-2,1]\n",
        "\n",
        "eixoR = np.arange(len(ret1))\n",
        "\n",
        "ax1 = fig.subplot(212)\n",
        "\n",
        "ax1.plot(eixoR,ret1,'--ok')\n",
        "ax1.set_xlabel('Dias', fontsize = 14)\n",
        "ax1.set_ylabel('PETR4', fontsize = 14)\n",
        "ax1.set_title('RETORNOS (PETR4, títulos)')\n",
        "ax1.text(140,24.5, s = 'PETR4', fontsize = 14) # Posição do texto alterada,\n",
        "fig.grid()                                     # devido banco de dados diferente\n",
        "\n",
        "ax2 = ax1.twinx()\n",
        "ax2.plot(eixoR,ret2, '-k',linewidth = 4)\n",
        "ax2.set_ylabel('NTNB-principal 2045', fontsize = 14)\n",
        "ax2.text(138,1410, s = 'Títulos', fontsize = 14) # Posição do texto alterada,\n",
        "                                                 # devido banco de dados diferente\n",
        "\n",
        "mi1= ret1.mean()\n",
        "mi2 = ret2.mean()\n",
        "sigma1 = ret1.std()\n",
        "sigma2 = ret2.std()\n",
        "correl, pval = stats.pearsonr(ret1,ret2)\n",
        "pa = 0.8\n",
        "pb = 1 - pa\n",
        "risco_cart = mt.sqrt(pa**2*sigma1**2+pb**2*sigma2**2+2*pa*pb*correl*sigma1*sigma2)\n",
        "\n",
        "print(' ')\n",
        "print('+++++++++++++++ RISCO DA CARTEIRA +++++++++++++++')\n",
        "print('MÉDIA RET (PETR4) = ',mi1)\n",
        "print('MÉDIA RET (TÍTULOS) = ',mi2)\n",
        "print('DESV. RET (PETR4) = ',sigma1)\n",
        "print('DESV. RET (TÍTULOS) = ',sigma2)\n",
        "print('COEF.CORREL DOS ATVOS = ',correl)\n",
        "print('RISCO DA CARTEIRA = ',risco_cart)\n",
        "print('+++++++++++++++++++++++++++++++++++++++++++++++++')"
      ],
      "metadata": {
        "id": "VUNre9K0KEgF"
      },
      "execution_count": null,
      "outputs": []
    },
    {
      "cell_type": "markdown",
      "source": [
        "##Exemplo 6.13"
      ],
      "metadata": {
        "id": "AuJBEVqbKYpx"
      }
    },
    {
      "cell_type": "code",
      "source": [
        "# Exemplo 6.13\n",
        "# PETR4 e NTNB 2045 para matriz\n",
        "# Banco de dados um pouco diferente do utilizado no livro, devido a fonte dos dados\n",
        "\n",
        "import numpy as np\n",
        "import xlrd\n",
        "import matplotlib.pyplot as fig\n",
        "import math as mt\n",
        "from scipy import stats\n",
        "\n",
        "wb = xlrd.open_workbook('PetrTitul.xlsx')\n",
        "plan = wb.sheet_by_name('Planilha1')\n",
        "lin = plan.nrows\n",
        "col = plan.ncols\n",
        "\n",
        "mat = np.zeros((lin,col))\n",
        "\n",
        "for i in range(lin):\n",
        "    for j in range(col):\n",
        "        mat[i,j] = plan.cell(i,j).value\n",
        "\n",
        "ret1 = (mat[1:lin-1,0] - mat[0:lin-2,0])/ mat[0:lin-2,0]\n",
        "ret2 = (mat[1:lin-1,1] - mat[0:lin-2,1])/ mat[0:lin-2,1]\n",
        "\n",
        "mi1= ret1.mean()\n",
        "mi2 = ret2.mean()\n",
        "sigma1 = ret1.std()\n",
        "sigma2 = ret2.std()\n",
        "correl, pval = stats.pearsonr(ret1,ret2)\n",
        "\n",
        "p = np.arange(0,1,0.01)\n",
        "rc = np.zeros(len(p))\n",
        "eixCart = np.zeros(len(p))\n",
        "\n",
        "i = 0\n",
        "for x in p:\n",
        "    y = 1 - x\n",
        "    rc[i] = mt.sqrt(x**2*sigma1**2+y**2*sigma2**2+2*x*y*correl*sigma1*sigma2)\n",
        "    eixCart[i] = x\n",
        "    i = i+1\n",
        "\n",
        "fig.figure()\n",
        "fig.plot(rc,eixCart,'-k')\n",
        "fig.grid()\n",
        "fig.xlabel('Risco',fontsize = 18)\n",
        "fig.ylabel('Retorno da carteira',fontsize = 18)\n",
        "fig.title('FRONTEIRA EFICIENTE - (PETR4, TÍTULOS)',fontsize = 18)"
      ],
      "metadata": {
        "id": "I6aH2k68KT5J"
      },
      "execution_count": null,
      "outputs": []
    },
    {
      "cell_type": "markdown",
      "source": [
        "#Exercícios 6.10"
      ],
      "metadata": {
        "id": "puptfXnILrAx"
      }
    },
    {
      "cell_type": "markdown",
      "source": [
        "##Exercícios 1"
      ],
      "metadata": {
        "id": "1v8_gnMNLk0y"
      }
    },
    {
      "cell_type": "code",
      "source": [
        "# Exercícios 6.10\n",
        "# 1\n",
        "# Solução do autor\n",
        "\n",
        "import numpy as np\n",
        "import matplotlib.pyplot as fig\n",
        "\n",
        "def reta(a,b,n):\n",
        "    x = np.arange(0,n,0.2)\n",
        "    y = np.zeros(len(x))\n",
        "    for i in range(len(x)):\n",
        "        y[i] = a*x[i] + b\n",
        "    fig.plot(x,y,'-k', linewidth = 2)\n",
        "    fig.grid()\n",
        "\n",
        "\n",
        "#+++++++++++++++++ Programa principal +++++++++++++++++\n",
        "print('++++++++++++++++++++++++++++++++++++++++++++++++')\n",
        "a = float(input('Coeficiente angular da reta (a) = '))\n",
        "b = float(input('Coeficiente linear da reta (b) = '))\n",
        "n = float(input('Valor final de x é (n) = '))\n",
        "\n",
        "reta(a, b, n)"
      ],
      "metadata": {
        "colab": {
          "base_uri": "https://localhost:8080/",
          "height": 499
        },
        "id": "PdgIPIudLRmT",
        "outputId": "308a15f8-92dd-48d8-db41-e9c302843315"
      },
      "execution_count": null,
      "outputs": [
        {
          "name": "stdout",
          "output_type": "stream",
          "text": [
            "++++++++++++++++++++++++++++++++++++++++++++++++\n",
            "Coeficiente angular da reta (a) = 2\n",
            "Coeficiente linear da reta (b) = 1\n",
            "Valor final de x é (n) = 10\n"
          ]
        },
        {
          "output_type": "display_data",
          "data": {
            "text/plain": [
              "<Figure size 640x480 with 1 Axes>"
            ],
            "image/png": "[encoded data removed]"
          },
          "metadata": {}
        }
      ]
    },
    {
      "cell_type": "markdown",
      "source": [
        "##Exercícios 2"
      ],
      "metadata": {
        "id": "GRxA5FyhTvkB"
      }
    },
    {
      "cell_type": "code",
      "source": [
        "# Exercícios 6.10\n",
        "# 2\n",
        "# Solução do autor\n",
        "\n",
        "import numpy as np\n",
        "import matplotlib.pyplot as fig\n",
        "\n",
        "def parabola(a,b,c,n):\n",
        "    x = np.arange(0,n,0.2)\n",
        "    y = np.zeros(len(x))\n",
        "    for i in range(len(x)):\n",
        "        y[i] = a*x[i]**2+b*x[i]+c\n",
        "    fig.plot(x,y,'-k',linewidth = 2)\n",
        "    fig.grid()\n",
        "    fig.xlabel('Eixo X')\n",
        "    fig.ylabel('Eixo Y')\n",
        "\n",
        "#+++++++++++++++++ Programa principal +++++++++++++++++\n",
        "print('++++++++++++++++++++++++++++++++++++++++++++++++')\n",
        "a = float(input('Coeficiente (a) = '))\n",
        "b = float(input('Coeficiente (b) = '))\n",
        "c = float(input('Coeficiente (c) = '))\n",
        "n = float(input('Valor final de x é (n) = '))\n",
        "\n",
        "parabola(a, b, c, n)"
      ],
      "metadata": {
        "colab": {
          "base_uri": "https://localhost:8080/",
          "height": 536
        },
        "id": "vP6ihiP4TwsO",
        "outputId": "65bebf46-106b-47a8-8158-c43585c278e8"
      },
      "execution_count": 2,
      "outputs": [
        {
          "name": "stdout",
          "output_type": "stream",
          "text": [
            "++++++++++++++++++++++++++++++++++++++++++++++++\n",
            "Coeficiente (a) = 1\n",
            "Coeficiente (b) = -5\n",
            "Coeficiente (c) = 6\n",
            "Valor final de x é (n) = 10\n"
          ]
        },
        {
          "output_type": "display_data",
          "data": {
            "text/plain": [
              "<Figure size 640x480 with 1 Axes>"
            ],
            "image/png": "[encoded data removed]"
          },
          "metadata": {}
        }
      ]
    },
    {
      "cell_type": "markdown",
      "source": [
        "##Exercícios 3"
      ],
      "metadata": {
        "id": "iyoGhk6yT1O2"
      }
    },
    {
      "cell_type": "code",
      "source": [
        "# Exercícios 6.10\n",
        "# 3\n",
        "# Solução do autor\n",
        "\n",
        "import numpy as np\n",
        "import matplotlib.pyplot as fig\n",
        "\n",
        "def cubica(a, b, c, d, inicio, n):\n",
        "    x = np.arange(inicio,n,0.2)\n",
        "    y = np.zeros(len(x))\n",
        "    for i in range(len(x)):\n",
        "        y[i] = a*x[i]**3+b*x[i]**2+c*x[i]+d\n",
        "    fig.plot(x,y,'-k',linewidth = 2)\n",
        "    fig.grid()\n",
        "    fig.xlabel('Eixo X')\n",
        "    fig.ylabel('Eixo Y')\n",
        "\n",
        "#+++++++++++++++++ Programa principal +++++++++++++++++\n",
        "print('++++++++++++++++++++++++++++++++++++++++++++++++')\n",
        "a = float(input('Coeficiente (a) = '))\n",
        "b = float(input('Coeficiente (b) = '))\n",
        "c = float(input('Coeficiente (c) = '))\n",
        "d = float(input('Coeficiente (d) = '))\n",
        "inicio = float(input('Inicio do domínio de x = '))\n",
        "n = float(input('Valor final de x é (n) = '))\n",
        "\n",
        "cubica(a, b, c, d, inicio, n)"
      ],
      "metadata": {
        "colab": {
          "base_uri": "https://localhost:8080/",
          "height": 571
        },
        "id": "Ga6ntUgJTzfv",
        "outputId": "8c789367-5cd4-462c-fbfa-2c3b1e465789"
      },
      "execution_count": 5,
      "outputs": [
        {
          "name": "stdout",
          "output_type": "stream",
          "text": [
            "++++++++++++++++++++++++++++++++++++++++++++++++\n",
            "Coeficiente (a) = 0.25\n",
            "Coeficiente (b) = 0.75\n",
            "Coeficiente (c) = -1.5\n",
            "Coeficiente (d) = -2\n",
            "Inicio do domínio de x = -4.5\n",
            "Valor final de x é (n) = 4\n"
          ]
        },
        {
          "output_type": "display_data",
          "data": {
            "text/plain": [
              "<Figure size 640x480 with 1 Axes>"
            ],
            "image/png": "[encoded data removed]"
          },
          "metadata": {}
        }
      ]
    },
    {
      "cell_type": "markdown",
      "source": [
        "##Exercícios 4"
      ],
      "metadata": {
        "id": "RdbRyF1AYc9Q"
      }
    },
    {
      "cell_type": "code",
      "source": [
        "# Exercícios 6.10\n",
        "# 4\n",
        "# Solução do autor\n",
        "\n",
        "import numpy as np\n",
        "import matplotlib.pyplot as fig\n",
        "\n",
        "def reta(a,b,inicio,n):\n",
        "    x = np.arange(inicio,n,0.2)\n",
        "    y = np.zeros(len(x))\n",
        "    for i in range(len(x)):\n",
        "        y[i] = a*x[i] + b\n",
        "    fig.plot(x,y,'-k', linewidth = 2)\n",
        "\n",
        "def cubica(c, d, e, f, inicio, n):\n",
        "    x = np.arange(inicio,n,0.2)\n",
        "    z = np.zeros(len(x))\n",
        "    for i in range(len(x)):\n",
        "        z[i] = c*x[i]**3+d*x[i]**2+e*x[i]+f\n",
        "    fig.plot(x,z,'--or',linewidth = 2,markersize = 8)\n",
        "    fig.grid()\n",
        "    fig.xlabel('Eixo X')\n",
        "    fig.ylabel('Eixo Y')\n",
        "\n",
        "\n",
        "#+++++++++++++++++ Programa principal +++++++++++++++++\n",
        "print('++++++++++++++++++++++ PARAMETRO DA RETA ++++++++++++++++++++++')\n",
        "a = float(input('Coeficiente (a) = '))\n",
        "b = float(input('Coeficiente (b) = '))\n",
        "print('++++++++++++++++++++++ PARAMETRO DA CUBICA ++++++++++++++++++++')\n",
        "c = float(input('Coeficiente (c) = '))\n",
        "d = float(input('Coeficiente (d) = '))\n",
        "e = float(input('Coeficiente (e) = '))\n",
        "f = float(input('Coeficiente (f) = '))\n",
        "\n",
        "inicio = float(input('Inicio do domínio de x = '))\n",
        "n = float(input('Valor final de x é (n) = '))\n",
        "\n",
        "reta(a, b, inicio, n)\n",
        "cubica(c, d, e, f, inicio, n)"
      ],
      "metadata": {
        "colab": {
          "base_uri": "https://localhost:8080/",
          "height": 623
        },
        "id": "wS6I6IRNUTDK",
        "outputId": "41b32de8-ebfb-4337-c255-93b0caaa378e"
      },
      "execution_count": 6,
      "outputs": [
        {
          "name": "stdout",
          "output_type": "stream",
          "text": [
            "++++++++++++++++++++++ PARAMETRO DA RETA ++++++++++++++++++++++\n",
            "Coeficiente (a) = 1\n",
            "Coeficiente (b) = -1\n",
            "++++++++++++++++++++++ PARAMETRO DA CUBICA ++++++++++++++++++++\n",
            "Coeficiente (c) = 0.25\n",
            "Coeficiente (d) = 0.75\n",
            "Coeficiente (e) = -1.5\n",
            "Coeficiente (f) = -2\n",
            "Inicio do domínio de x = -4.5\n",
            "Valor final de x é (n) = 4\n"
          ]
        },
        {
          "output_type": "display_data",
          "data": {
            "text/plain": [
              "<Figure size 640x480 with 1 Axes>"
            ],
            "image/png": "[encoded data removed]"
          },
          "metadata": {}
        }
      ]
    },
    {
      "cell_type": "markdown",
      "source": [
        "##Exercícios 5"
      ],
      "metadata": {
        "id": "EtI_yZO-a1f6"
      }
    },
    {
      "cell_type": "code",
      "source": [
        "# Exercícios 6.10\n",
        "# 5\n",
        "# Solução do autor\n",
        "\n",
        "import numpy as np\n",
        "import matplotlib.pyplot as fig\n",
        "import math\n",
        "\n",
        "def Exponencial(taxa, inicio, n):\n",
        "    x = np.arange(inicio,n,0.2)\n",
        "    y = np.zeros(len(x))\n",
        "    for i in range(len(x)):\n",
        "        y[i] = math.exp(taxa*x[i])\n",
        "    fig.plot(x,y,'-r',linewidth = 2)\n",
        "\n",
        "\n",
        "def Trigonometria(amp, freq, inicio, n):\n",
        "    x = np.arange(inicio,n,0.2)\n",
        "    z = np.zeros(len(x))\n",
        "    for i in range(len(x)):\n",
        "        z[i] = amp*math.cos(freq*x[i])\n",
        "    fig.plot(x,z,'--ob',linewidth = 2,markersize = 8)\n",
        "    fig.grid()\n",
        "    fig.xlabel('Eixo X')\n",
        "    fig.ylabel('Eixo Y')\n",
        "    fig.title('Gráfico de duas equações')\n",
        "\n",
        "#+++++++++++++++++ Programa principal +++++++++++++++++\n",
        "print('++++++++++++++++++++++ PARAMETRO DO EXPONENCIAL ++++++++++++++++++++++')\n",
        "taxa = float(input('Taxa = '))\n",
        "print('++++++++++++++++++++++ PARAMETRO DO COSSENO ++++++++++++++++++++++')\n",
        "amp = float(input('Amplitude = '))\n",
        "freq = float(input('Frequencia = '))\n",
        "inicio = float(input('Inicio do domínio de x = '))\n",
        "n = float(input('Fim do domínio de x = '))\n",
        "\n",
        "Exponencial(taxa,inicio,n)\n",
        "Trigonometria(amp, freq, inicio, n)"
      ],
      "metadata": {
        "colab": {
          "base_uri": "https://localhost:8080/",
          "height": 594
        },
        "id": "fNo__q-salwU",
        "outputId": "64472524-65b7-4244-aaaf-0968fad09e93"
      },
      "execution_count": 7,
      "outputs": [
        {
          "name": "stdout",
          "output_type": "stream",
          "text": [
            "++++++++++++++++++++++ PARAMETRO DO EXPONENCIAL ++++++++++++++++++++++\n",
            "Taxa = -2\n",
            "++++++++++++++++++++++ PARAMETRO DO COSSENO ++++++++++++++++++++++\n",
            "Amplitude = 1\n",
            "Frequencia = 2\n",
            "Inicio do domínio de x = 0\n",
            "Fim do domínio de x = 3\n"
          ]
        },
        {
          "output_type": "display_data",
          "data": {
            "text/plain": [
              "<Figure size 640x480 with 1 Axes>"
            ],
            "image/png": "[encoded data removed]"
          },
          "metadata": {}
        }
      ]
    },
    {
      "cell_type": "markdown",
      "source": [
        "##Exercícios 6"
      ],
      "metadata": {
        "id": "XJ7W7rU_bHm4"
      }
    },
    {
      "cell_type": "code",
      "source": [
        "# Exercícios 6.10\n",
        "# 6\n",
        "# Solução do autor\n",
        "\n",
        "import numpy as np\n",
        "import matplotlib.pyplot as fig\n",
        "import math\n",
        "\n",
        "def OfDem(a1,b1,a2,b2,inicio,n):\n",
        "    p = np.arange(inicio,n,0.2)\n",
        "    qo = np.zeros(len(p))\n",
        "    qd = np.zeros(len(p))\n",
        "    for i in range(len(p)):\n",
        "        qo[i] = a1+b1*p[i]\n",
        "        qd[i] = a2-b2*p[i]\n",
        "    fig.plot(p,qo,'-r',p,qd,'-b*',linewidth = 2,markersize = 8)\n",
        "    fig.grid()\n",
        "    fig.xlabel('Quantidade')\n",
        "    fig.ylabel('Preço')\n",
        "    fig.title('Oferta X Demanda')\n",
        "\n",
        "#+++++++++++++++++ Programa principal +++++++++++++++++\n",
        "print('++++++++++++++++++++++ Oferta ++++++++++++++++++++++')\n",
        "a1 = float(input('a1 = '))\n",
        "b1 = float(input('b1 = '))\n",
        "print('++++++++++++++++++++++ Demanda ++++++++++++++++++++++')\n",
        "a2 = float(input('a2 = '))\n",
        "b2 = float(input('b2 = '))\n",
        "inicio = float(input('Início do domínio de q = '))\n",
        "n = float(input('Fim do domínio de q = '))\n",
        "\n",
        "OfDem(a1, b1, a2, b2, inicio, n)"
      ],
      "metadata": {
        "colab": {
          "base_uri": "https://localhost:8080/",
          "height": 611
        },
        "id": "ei3KYJyUa8od",
        "outputId": "dc9707a7-120f-4481-d90e-1f68ca244f24"
      },
      "execution_count": 8,
      "outputs": [
        {
          "name": "stdout",
          "output_type": "stream",
          "text": [
            "++++++++++++++++++++++ Oferta ++++++++++++++++++++++\n",
            "a1 = 2243\n",
            "b1 = 183\n",
            "++++++++++++++++++++++ Demanda ++++++++++++++++++++++\n",
            "a2 = 4193\n",
            "b2 = 207\n",
            "Início do domínio de q = 0\n",
            "Fim do domínio de q = 10\n"
          ]
        },
        {
          "output_type": "display_data",
          "data": {
            "text/plain": [
              "<Figure size 640x480 with 1 Axes>"
            ],
            "image/png": "[encoded data removed]"
          },
          "metadata": {}
        }
      ]
    },
    {
      "cell_type": "markdown",
      "source": [
        "##Exercícios 7"
      ],
      "metadata": {
        "id": "S5H_Y28we2HN"
      }
    },
    {
      "cell_type": "code",
      "source": [
        "# Exercícios 6.10\n",
        "# 7\n",
        "# Minha solução\n",
        "\n",
        "import numpy as np\n",
        "\n",
        "lista_original = [12.2,13.57,100,98.6]\n",
        "vetor = np.zeros(len(lista_original))\n",
        "for i in range(len(vetor)):\n",
        "    vetor[i] = lista_original[i]\n",
        "\n",
        "print(vetor)"
      ],
      "metadata": {
        "colab": {
          "base_uri": "https://localhost:8080/"
        },
        "id": "pGpz45CdbMBo",
        "outputId": "0db0d863-f0a5-4439-87de-20f9686d9cc7"
      },
      "execution_count": 9,
      "outputs": [
        {
          "output_type": "stream",
          "name": "stdout",
          "text": [
            "[ 12.2   13.57 100.    98.6 ]\n"
          ]
        }
      ]
    },
    {
      "cell_type": "markdown",
      "source": [
        "##Exercícios 8"
      ],
      "metadata": {
        "id": "abYNumiue7IF"
      }
    },
    {
      "cell_type": "code",
      "source": [
        "# Exercícios 6.10\n",
        "# 8\n",
        "# Minha solução\n",
        "\n",
        "import numpy as np\n",
        "\n",
        "vetor = np.zeros(10)\n",
        "vetor[6] = 10\n",
        "print(vetor)"
      ],
      "metadata": {
        "colab": {
          "base_uri": "https://localhost:8080/"
        },
        "id": "UfJ_2A-te4iR",
        "outputId": "b4b60117-2531-4d3e-f615-7846ca543125"
      },
      "execution_count": 10,
      "outputs": [
        {
          "output_type": "stream",
          "name": "stdout",
          "text": [
            "[ 0.  0.  0.  0.  0.  0. 10.  0.  0.  0.]\n"
          ]
        }
      ]
    },
    {
      "cell_type": "markdown",
      "source": [
        "##Exercícios 9"
      ],
      "metadata": {
        "id": "nPNiZXiAfBqR"
      }
    },
    {
      "cell_type": "code",
      "source": [
        "# Exercícios 6.10\n",
        "# 9\n",
        "# Minha solução\n",
        "\n",
        "import numpy as np\n",
        "\n",
        "vetor = np.arange(12,22)\n",
        "print(vetor)"
      ],
      "metadata": {
        "colab": {
          "base_uri": "https://localhost:8080/"
        },
        "id": "4Zj7RKkdfAig",
        "outputId": "fdb79398-dad1-4f3a-d529-5b562a826c38"
      },
      "execution_count": 11,
      "outputs": [
        {
          "output_type": "stream",
          "name": "stdout",
          "text": [
            "[12 13 14 15 16 17 18 19 20 21]\n"
          ]
        }
      ]
    },
    {
      "cell_type": "markdown",
      "source": [
        "##Exercícios 10"
      ],
      "metadata": {
        "id": "k_znBaMwfuJD"
      }
    },
    {
      "cell_type": "code",
      "source": [
        "# Exercícios 6.10\n",
        "# 10\n",
        "# Solução autor\n",
        "\n",
        "import numpy as np\n",
        "\n",
        "c = np.array([0,12,45.21,34,99.91])\n",
        "f = 9*c/5+32\n",
        "print(f)"
      ],
      "metadata": {
        "colab": {
          "base_uri": "https://localhost:8080/"
        },
        "id": "ovEPb_x9fFiw",
        "outputId": "086e8c16-392f-4e8f-c1fb-6aa05ea96aba"
      },
      "execution_count": 12,
      "outputs": [
        {
          "output_type": "stream",
          "name": "stdout",
          "text": [
            "[ 32.     53.6   113.378  93.2   211.838]\n"
          ]
        }
      ]
    },
    {
      "cell_type": "markdown",
      "source": [
        "##Exercícios 11"
      ],
      "metadata": {
        "id": "fVMpnB5tgzLz"
      }
    },
    {
      "cell_type": "code",
      "source": [
        "# Exercícios 6.10\n",
        "# 11\n",
        "# Minha solução\n",
        "\n",
        "import numpy as np\n",
        "\n",
        "x = np.array([[0,10,20],[2,40,100]])\n",
        "\n",
        "for i in x:\n",
        "    for j in i:\n",
        "        if j == 40:\n",
        "            print('Número 40 achou')\n"
      ],
      "metadata": {
        "colab": {
          "base_uri": "https://localhost:8080/"
        },
        "id": "MCRyQ_lhgxYJ",
        "outputId": "4c94801d-5ad0-4e96-da00-5a0b667fde33"
      },
      "execution_count": 15,
      "outputs": [
        {
          "output_type": "stream",
          "name": "stdout",
          "text": [
            "Número 40 achou\n"
          ]
        }
      ]
    },
    {
      "cell_type": "markdown",
      "source": [
        "##Exercícios 12"
      ],
      "metadata": {
        "id": "FZ2KcsGIg8iR"
      }
    },
    {
      "cell_type": "code",
      "source": [
        "# Exercícios 6.10\n",
        "# 12\n",
        "# Minha solução\n",
        "\n",
        "import numpy as np\n",
        "\n",
        "def mul_escalar(constante,lista):\n",
        "    lis = np.array(lista)\n",
        "    x = np.zeros(len(lista))\n",
        "    for i in range(len(lis)):\n",
        "        x[i] = constante * lis[i]\n",
        "    print('++++++ Multiplicação do escalar pelo vetor ++++++')\n",
        "    print(x)\n",
        "\n",
        "mul_escalar(5,[1,2,5,7])"
      ],
      "metadata": {
        "colab": {
          "base_uri": "https://localhost:8080/"
        },
        "id": "1IZnmWrtg3yA",
        "outputId": "66f1c48c-b889-4731-f38b-c94db129a9a3"
      },
      "execution_count": 14,
      "outputs": [
        {
          "output_type": "stream",
          "name": "stdout",
          "text": [
            "++++++ Multiplicação do escalar pelo vetor ++++++\n",
            "[ 5. 10. 25. 35.]\n"
          ]
        }
      ]
    },
    {
      "cell_type": "markdown",
      "source": [
        "##Exercícios 13"
      ],
      "metadata": {
        "id": "jPFyCONPhOFb"
      }
    },
    {
      "cell_type": "code",
      "source": [
        "# Exercícios 6.10\n",
        "# 13\n",
        "# Minha solução\n",
        "\n",
        "x = [2,5,7,4,10,80,1,2]\n",
        "y = [-3,-5,2,1,4,-5,3,20]\n",
        "\n",
        "index = x.index(max(x))\n",
        "print('Valor correspondente x é =',y[index])"
      ],
      "metadata": {
        "colab": {
          "base_uri": "https://localhost:8080/"
        },
        "id": "9fVfVhAwhCUT",
        "outputId": "43480013-1e35-4919-e4e7-3b6cbdc05a6d"
      },
      "execution_count": 17,
      "outputs": [
        {
          "output_type": "stream",
          "name": "stdout",
          "text": [
            "Valor correspondente x é = -5\n"
          ]
        }
      ]
    },
    {
      "cell_type": "markdown",
      "source": [
        "##Exercícios 14"
      ],
      "metadata": {
        "id": "-_YIDot3hRUz"
      }
    },
    {
      "cell_type": "code",
      "source": [
        "# Exercícios 6.10\n",
        "# 14\n",
        "# Minha solução\n",
        "\n",
        "import numpy as np\n",
        "\n",
        "x = [2,5,7,4,10,80,1,2]\n",
        "y = [-3,-5,2,1,4,-5,3,20]\n",
        "\n",
        "y_ordenado = np.sort(y)\n",
        "z = np.zeros(len(x))\n",
        "\n",
        "for i in range(len(x)):\n",
        "    z[i] = x[i] - y_ordenado[i]\n",
        "\n",
        "print('x =',x)\n",
        "print('y =',y)\n",
        "print('y-ordenado = ', y_ordenado)\n",
        "print('z =',z)"
      ],
      "metadata": {
        "colab": {
          "base_uri": "https://localhost:8080/"
        },
        "id": "5sqYT2nvhMIs",
        "outputId": "9df5d850-4601-400b-dfd3-8a491cbba20a"
      },
      "execution_count": 18,
      "outputs": [
        {
          "output_type": "stream",
          "name": "stdout",
          "text": [
            "x = [2, 5, 7, 4, 10, 80, 1, 2]\n",
            "y = [-3, -5, 2, 1, 4, -5, 3, 20]\n",
            "y-ordenado =  [-5 -5 -3  1  2  3  4 20]\n",
            "z = [  7.  10.  10.   3.   8.  77.  -3. -18.]\n"
          ]
        }
      ]
    },
    {
      "cell_type": "markdown",
      "source": [
        "##Exercícios 15"
      ],
      "metadata": {
        "id": "lWqRZEUhrkDY"
      }
    },
    {
      "cell_type": "code",
      "source": [
        "# Exercícios 6.10\n",
        "# 15\n",
        "# Minha solução\n",
        "\n",
        "import numpy as np\n",
        "\n",
        "x = [1,2,3]\n",
        "y = [-1,5,100]\n",
        "\n",
        "z = np.array(x+y)\n",
        "print(z)"
      ],
      "metadata": {
        "colab": {
          "base_uri": "https://localhost:8080/"
        },
        "id": "ChebidMAhW0o",
        "outputId": "f912a58e-ae12-4003-be00-e64b3ed978ad"
      },
      "execution_count": 19,
      "outputs": [
        {
          "output_type": "stream",
          "name": "stdout",
          "text": [
            "[  1   2   3  -1   5 100]\n"
          ]
        }
      ]
    },
    {
      "cell_type": "markdown",
      "source": [
        "##Exercícios 16"
      ],
      "metadata": {
        "id": "-Bk_f-ytrpEA"
      }
    },
    {
      "cell_type": "code",
      "source": [
        "# Exercícios 6.10\n",
        "# 16\n",
        "# Solução autor\n",
        "\n",
        "import numpy as np\n",
        "import matplotlib.pyplot as fig\n",
        "\n",
        "y = np.array([-4,2,3,4,5,9,2,1,0,-5,-3,-4,-1,-2])\n",
        "tam = len(y)\n",
        "x = np.linspace(1,tam,tam)\n",
        "coef = np.polyfit(x,y,1)\n",
        "tendencia = coef[0] * x + coef[1]\n",
        "print('++++ y = ax + b ++++')\n",
        "print('a = ', coef[0])\n",
        "print('b = ', coef[1])\n",
        "\n",
        "fig.plot(x,y,'-k',x,tendencia,'--k')"
      ],
      "metadata": {
        "colab": {
          "base_uri": "https://localhost:8080/",
          "height": 517
        },
        "id": "xYfsHdUwrn6Z",
        "outputId": "7edfc4fb-fdb1-4034-ff20-f60fe2d5df9b"
      },
      "execution_count": 21,
      "outputs": [
        {
          "output_type": "stream",
          "name": "stdout",
          "text": [
            "++++ y = ax + b ++++\n",
            "a =  -0.4329670329670326\n",
            "b =  3.7472527472527415\n"
          ]
        },
        {
          "output_type": "execute_result",
          "data": {
            "text/plain": [
              "[<matplotlib.lines.Line2D at 0x78c4a5270b20>,\n",
              " <matplotlib.lines.Line2D at 0x78c4a5273a60>]"
            ]
          },
          "metadata": {},
          "execution_count": 21
        },
        {
          "output_type": "display_data",
          "data": {
            "text/plain": [
              "<Figure size 640x480 with 1 Axes>"
            ],
            "image/png": "[encoded data removed]"
          },
          "metadata": {}
        }
      ]
    },
    {
      "cell_type": "markdown",
      "source": [
        "##Exercícios 17"
      ],
      "metadata": {
        "id": "bs5p675ytLmD"
      }
    },
    {
      "cell_type": "code",
      "source": [
        "# Exercícios 6.10\n",
        "# 17\n",
        "# Minha solução\n",
        "\n",
        "import numpy as np\n",
        "\n",
        "# (a)\n",
        "A = np.array([[1,4,5,12,14],\n",
        "             [-5,8,9,0,17],\n",
        "             [-6,7,11,19,21]])\n",
        "print('\\n++++++++++(a)++++++++++')\n",
        "print(A)\n",
        "\n",
        "# (b)\n",
        "print('\\n++++++++++(b)++++++++++')\n",
        "print(A[ :2, :4])\n",
        "\n",
        "# (c)\n",
        "print('\\n++++++++++(c)++++++++++')\n",
        "print(A[0])\n",
        "\n",
        "# (d)\n",
        "print('\\n++++++++++(d)++++++++++')\n",
        "print(A[0:,2])\n",
        "\n",
        "# (e)\n",
        "print('\\n++++++++++(e)++++++++++')\n",
        "print(A[0:,2:])"
      ],
      "metadata": {
        "colab": {
          "base_uri": "https://localhost:8080/"
        },
        "id": "KgiIHtmjrsap",
        "outputId": "d7e2a97a-6fb5-4a86-fbf7-362d60c05baf"
      },
      "execution_count": 22,
      "outputs": [
        {
          "output_type": "stream",
          "name": "stdout",
          "text": [
            "\n",
            "++++++++++(a)++++++++++\n",
            "[[ 1  4  5 12 14]\n",
            " [-5  8  9  0 17]\n",
            " [-6  7 11 19 21]]\n",
            "\n",
            "++++++++++(b)++++++++++\n",
            "[[ 1  4  5 12]\n",
            " [-5  8  9  0]]\n",
            "\n",
            "++++++++++(c)++++++++++\n",
            "[ 1  4  5 12 14]\n",
            "\n",
            "++++++++++(d)++++++++++\n",
            "[ 5  9 11]\n",
            "\n",
            "++++++++++(e)++++++++++\n",
            "[[ 5 12 14]\n",
            " [ 9  0 17]\n",
            " [11 19 21]]\n"
          ]
        }
      ]
    },
    {
      "cell_type": "markdown",
      "source": [
        "##Exercícios 18"
      ],
      "metadata": {
        "id": "EDbNctf7uYe-"
      }
    },
    {
      "cell_type": "code",
      "source": [
        "# Exercícios 6.10\n",
        "# 18\n",
        "# Minha solução\n",
        "\n",
        "import numpy as np\n",
        "\n",
        "print('\\n++++++++++(a)++++++++++')\n",
        "a = np.zeros((3,2))\n",
        "print(a)\n",
        "\n",
        "# (b)\n",
        "print('\\n++++++++++(b)++++++++++')\n",
        "b = np.ones((4,2))\n",
        "print(b)\n",
        "\n",
        "# (c)\n",
        "print('\\n++++++++++(c)++++++++++')\n",
        "c = np.identity(10)\n",
        "print(c)\n",
        "\n",
        "# (d)\n",
        "print('\\n++++++++++(d)++++++++++')\n",
        "A = np.array([[-2,5],[3,0]])\n",
        "B = np.array([[1,-1],[6,5]])\n",
        "C = A + B\n",
        "print(C)\n",
        "\n",
        "# (e) - Solução autor\n",
        "print('\\n++++++++++(e)++++++++++')\n",
        "A = np.array([[-2,5],[3,0]])\n",
        "B = np.array([[1,-1],[6,5]])\n",
        "print(A)\n",
        "print(B)\n",
        "D = np.matmul(A,B)+A\n",
        "print('++++++++++')\n",
        "print(D)\n",
        "\n",
        "# (f)\n",
        "\n",
        "from numpy.linalg import inv\n",
        "\n",
        "print('\\n++++++++++(e)++++++++++')\n",
        "A = np.array([[-2,5],[3,0]])\n",
        "B = np.array([[1,-1],[6,5]])\n",
        "print(A)\n",
        "print(B)\n",
        "C = np.matmul(inv(A),B)\n",
        "print('++++++++++++++++++++++++++')\n",
        "print(C)"
      ],
      "metadata": {
        "colab": {
          "base_uri": "https://localhost:8080/"
        },
        "id": "ysX_mvxNuWFx",
        "outputId": "eaac3070-a9a6-447e-ab01-4c633f905712"
      },
      "execution_count": 24,
      "outputs": [
        {
          "output_type": "stream",
          "name": "stdout",
          "text": [
            "\n",
            "++++++++++(a)++++++++++\n",
            "[[0. 0.]\n",
            " [0. 0.]\n",
            " [0. 0.]]\n",
            "\n",
            "++++++++++(b)++++++++++\n",
            "[[1. 1.]\n",
            " [1. 1.]\n",
            " [1. 1.]\n",
            " [1. 1.]]\n",
            "\n",
            "++++++++++(c)++++++++++\n",
            "[[1. 0. 0. 0. 0. 0. 0. 0. 0. 0.]\n",
            " [0. 1. 0. 0. 0. 0. 0. 0. 0. 0.]\n",
            " [0. 0. 1. 0. 0. 0. 0. 0. 0. 0.]\n",
            " [0. 0. 0. 1. 0. 0. 0. 0. 0. 0.]\n",
            " [0. 0. 0. 0. 1. 0. 0. 0. 0. 0.]\n",
            " [0. 0. 0. 0. 0. 1. 0. 0. 0. 0.]\n",
            " [0. 0. 0. 0. 0. 0. 1. 0. 0. 0.]\n",
            " [0. 0. 0. 0. 0. 0. 0. 1. 0. 0.]\n",
            " [0. 0. 0. 0. 0. 0. 0. 0. 1. 0.]\n",
            " [0. 0. 0. 0. 0. 0. 0. 0. 0. 1.]]\n",
            "\n",
            "++++++++++(d)++++++++++\n",
            "[[-1  4]\n",
            " [ 9  5]]\n",
            "\n",
            "++++++++++(e)++++++++++\n",
            "[[-2  5]\n",
            " [ 3  0]]\n",
            "[[ 1 -1]\n",
            " [ 6  5]]\n",
            "++++++++++\n",
            "[[26 32]\n",
            " [ 6 -3]]\n",
            "\n",
            "++++++++++(e)++++++++++\n",
            "[[-2  5]\n",
            " [ 3  0]]\n",
            "[[ 1 -1]\n",
            " [ 6  5]]\n",
            "++++++++++++++++++++++++++\n",
            "[[2.         1.66666667]\n",
            " [1.         0.46666667]]\n"
          ]
        }
      ]
    },
    {
      "cell_type": "markdown",
      "source": [
        "##Exercícios 19"
      ],
      "metadata": {
        "id": "TAoNu9dUug6R"
      }
    },
    {
      "cell_type": "code",
      "source": [
        "# Exercícios 6.10\n",
        "# 19\n",
        "# Solução do autor\n",
        "\n",
        "import numpy as np\n",
        "from numpy.linalg import det\n",
        "\n",
        "M = np.array([[2,-1,3,1],[0,-5,4,1],[10,8,7,9],[1,2,5,3]])\n",
        "print(M)\n",
        "determinante = det(M)\n",
        "print('+++++++++++++++++++')\n",
        "print(determinante)"
      ],
      "metadata": {
        "colab": {
          "base_uri": "https://localhost:8080/"
        },
        "id": "E8DlI6xdubpB",
        "outputId": "25065d41-eaa2-4d70-bf98-1a05ff0072b0"
      },
      "execution_count": 25,
      "outputs": [
        {
          "output_type": "stream",
          "name": "stdout",
          "text": [
            "[[ 2 -1  3  1]\n",
            " [ 0 -5  4  1]\n",
            " [10  8  7  9]\n",
            " [ 1  2  5  3]]\n",
            "+++++++++++++++++++\n",
            "291.0000000000001\n"
          ]
        }
      ]
    },
    {
      "cell_type": "markdown",
      "source": [
        "##Exercícios 20"
      ],
      "metadata": {
        "id": "BEwfgJE9umRy"
      }
    },
    {
      "cell_type": "code",
      "source": [
        "# Exercícios 6.10\n",
        "# 20\n",
        "# Solução do autor\n",
        "\n",
        "import numpy as np\n",
        "\n",
        "M = np.array([[0,-4,50,1,14],[-5,-8,9,0,17],[-6,70,11,19,21]])\n",
        "n,m = M.shape\n",
        "print('++++++++++++++ Linhas ++++++++++++++')\n",
        "print(n)\n",
        "print('++++++++++++++ Colunas ++++++++++++++')\n",
        "print(m)\n",
        "\n",
        "#++++++ Geração de matriz aleatória +++++\n",
        "aleat = np.random.rand(n,n)\n",
        "print(aleat)"
      ],
      "metadata": {
        "colab": {
          "base_uri": "https://localhost:8080/"
        },
        "id": "uu8uCXJoulPc",
        "outputId": "5e26a336-ef6e-4e0e-8973-c19af36b7591"
      },
      "execution_count": 26,
      "outputs": [
        {
          "output_type": "stream",
          "name": "stdout",
          "text": [
            "++++++++++++++ Linhas ++++++++++++++\n",
            "3\n",
            "++++++++++++++ Colunas ++++++++++++++\n",
            "5\n",
            "[[0.99637186 0.72661241 0.05694777]\n",
            " [0.33595778 0.63208572 0.69780631]\n",
            " [0.33969593 0.19582795 0.44638327]]\n"
          ]
        }
      ]
    },
    {
      "cell_type": "markdown",
      "source": [
        "##Exercícios 21"
      ],
      "metadata": {
        "id": "IK4Jsftyurn7"
      }
    },
    {
      "cell_type": "code",
      "source": [
        "# Exercícios 6.10\n",
        "# 21\n",
        "# Minha solução\n",
        "\n",
        "import numpy as np\n",
        "\n",
        "M = np.array([[0,-4,50,1,14],[-5,-8,9,0,17],[-6,70,11,19,21]])\n",
        "\n",
        "imp = 0\n",
        "par = 0\n",
        "for i in M:\n",
        "    for j in i:\n",
        "        if j % 2 ==0:\n",
        "            imp = imp + 1\n",
        "        else:\n",
        "            par = par + 1\n",
        "print('Quantidade de ímpares =', imp)\n",
        "print('Quantidade de pares =', par)"
      ],
      "metadata": {
        "colab": {
          "base_uri": "https://localhost:8080/"
        },
        "id": "JBqWOOIUup6E",
        "outputId": "12c9b268-9e59-42f2-e7b6-7ecbece65d30"
      },
      "execution_count": 27,
      "outputs": [
        {
          "output_type": "stream",
          "name": "stdout",
          "text": [
            "Quantidade de ímpares = 8\n",
            "Quantidade de pares = 7\n"
          ]
        }
      ]
    }
  ]
}