{
  "nbformat": 4,
  "nbformat_minor": 0,
  "metadata": {
    "colab": {
      "provenance": [],
      "toc_visible": true,
      "authorship_tag": "ABX9TyPU5QnlBXefuzclgdaOrF7i",
      "include_colab_link": true
    },
    "kernelspec": {
      "name": "python3",
      "display_name": "Python 3"
    },
    "language_info": {
      "name": "python"
    }
  },
  "cells": [
    {
      "cell_type": "markdown",
      "metadata": {
        "id": "view-in-github",
        "colab_type": "text"
      },
      "source": [
        "<a href=\"https://colab.research.google.com/github/GustavoRosso/PythonEMercadoFinanceiro/blob/main/CAP%C3%8DTULO_5_PROGRAMANDO_FUN%C3%87%C3%95ES.ipynb\" target=\"_parent\"><img src=\"https://colab.research.google.com/assets/colab-badge.svg\" alt=\"Open In Colab\"/></a>"
      ]
    },
    {
      "cell_type": "markdown",
      "source": [
        "#CAPÍTULO 5 - PROGRAMANDO FUNÇÕES"
      ],
      "metadata": {
        "id": "nbM4zfNZeq6Q"
      }
    },
    {
      "cell_type": "markdown",
      "source": [
        "#Exemplos"
      ],
      "metadata": {
        "id": "JepO346vVgfD"
      }
    },
    {
      "cell_type": "markdown",
      "source": [
        "##Exemplo 5.1"
      ],
      "metadata": {
        "id": "Qa37WLVn9OLQ"
      }
    },
    {
      "cell_type": "code",
      "source": [
        "# Exemplo 5.1\n",
        "\n",
        "def nacional(pais):\n",
        "    print('Eu venho do(a) ' + pais)\n",
        "\n",
        "\n",
        "#+++++++++++++++++ Aqui começa o programa principal ++++++++++++++++++++++++++\n",
        "n = int(input('Número de países = '))\n",
        "for i in range(n):\n",
        "    local = input('Entre com seu país = ')\n",
        "    nacional(local)"
      ],
      "metadata": {
        "colab": {
          "base_uri": "https://localhost:8080/"
        },
        "id": "N62QzpNgeukM",
        "outputId": "50573700-3816-40f3-c935-7afe4a8c30bb"
      },
      "execution_count": 1,
      "outputs": [
        {
          "output_type": "stream",
          "name": "stdout",
          "text": [
            "Número de países = 3\n",
            "Entre com seu país = Brasil\n",
            "Eu venho do(a) Brasil\n",
            "Entre com seu país = Argentina\n",
            "Eu venho do(a) Argentina\n",
            "Entre com seu país = Portugal\n",
            "Eu venho do(a) Portugal\n"
          ]
        }
      ]
    },
    {
      "cell_type": "markdown",
      "source": [
        "##Exemplo 5.2"
      ],
      "metadata": {
        "id": "uc6kz0E4fUVv"
      }
    },
    {
      "cell_type": "code",
      "source": [
        "# Exemplo 5.2\n",
        "\n",
        "def Imprime(nomes):\n",
        "    for i in nomes:\n",
        "        print(i)\n",
        "\n",
        "\n",
        "#+++++++++++++++++ Aqui começa o programa principal ++++++++++++++++++++++++++\n",
        "nomes = ['João', 'Maria', 'José', 'Ana']\n",
        "\n",
        "Imprime(nomes)"
      ],
      "metadata": {
        "colab": {
          "base_uri": "https://localhost:8080/"
        },
        "id": "n0hI2-a0fY1o",
        "outputId": "5363a041-2cd1-4e5a-eb3f-438d44e93f63"
      },
      "execution_count": 2,
      "outputs": [
        {
          "output_type": "stream",
          "name": "stdout",
          "text": [
            "João\n",
            "Maria\n",
            "José\n",
            "Ana\n"
          ]
        }
      ]
    },
    {
      "cell_type": "markdown",
      "source": [
        "##Exemplo 5.3"
      ],
      "metadata": {
        "id": "qvfra-SA3YO0"
      }
    },
    {
      "cell_type": "code",
      "source": [
        "# Exemplo 5.3\n",
        "\n",
        "def calculo(x):\n",
        "    y = 5 * x\n",
        "    return(y)\n",
        "\n",
        "#+++++++++++++++++ Aqui começa o programa principal ++++++++++++++++++++++++++\n",
        "print(calculo(5))\n",
        "print(calculo(3))\n",
        "print(calculo(8))\n",
        "print(calculo(7))"
      ],
      "metadata": {
        "colab": {
          "base_uri": "https://localhost:8080/"
        },
        "id": "nT-HA1ls7WrO",
        "outputId": "5eb342b0-8b52-4820-9860-1cc1dc512771"
      },
      "execution_count": 3,
      "outputs": [
        {
          "output_type": "stream",
          "name": "stdout",
          "text": [
            "25\n",
            "15\n",
            "40\n",
            "35\n"
          ]
        }
      ]
    },
    {
      "cell_type": "markdown",
      "source": [
        "##Exemplo 5.4"
      ],
      "metadata": {
        "id": "G_Rrrg363V2E"
      }
    },
    {
      "cell_type": "code",
      "source": [
        "# Exemplo 5.4\n",
        "\n",
        "def verifica(n):\n",
        "    if n % 2 == 0:\n",
        "        print('Par')\n",
        "    else:\n",
        "        print('Impar')\n",
        "\n",
        "#+++++++++++++++++ Aqui começa o programa principal ++++++++++++++++++++++++++\n",
        "n = int(input('Entre com o número = '))\n",
        "\n",
        "verifica(n)"
      ],
      "metadata": {
        "colab": {
          "base_uri": "https://localhost:8080/"
        },
        "id": "lpaSMFA57jIJ",
        "outputId": "715f7a5f-8d69-4035-d69d-3e11029c0419"
      },
      "execution_count": 5,
      "outputs": [
        {
          "output_type": "stream",
          "name": "stdout",
          "text": [
            "Entre com o número = 10\n",
            "Par\n"
          ]
        }
      ]
    },
    {
      "cell_type": "code",
      "source": [
        "def calculo(x):\n",
        "    y = 5 * x\n",
        "    return(y)\n",
        "\n",
        "#+++++++++++++++++ Aqui começa o programa principal ++++++++++++++++++++++++++\n",
        "a = calculo(5)\n",
        "print('++++ Resultado ++++')\n",
        "print(a)"
      ],
      "metadata": {
        "colab": {
          "base_uri": "https://localhost:8080/"
        },
        "id": "jwO8k1u77xgb",
        "outputId": "5c80e34b-a8d8-4ae0-89ff-d1e88ffd4d7b"
      },
      "execution_count": 6,
      "outputs": [
        {
          "output_type": "stream",
          "name": "stdout",
          "text": [
            "++++ Resultado ++++\n",
            "25\n"
          ]
        }
      ]
    },
    {
      "cell_type": "markdown",
      "source": [
        "##Exemplo 5.5"
      ],
      "metadata": {
        "id": "ll_hFzSofUYP"
      }
    },
    {
      "cell_type": "code",
      "source": [
        "# Exemplo 5.5\n",
        "\n",
        "def cidade(tam):\n",
        "    if (tam <= 30000):\n",
        "        return 'Pequena'\n",
        "    if (tam > 30000) and (tam <= 150000) :\n",
        "        return 'Média'\n",
        "    if (tam > 150000) and (tam <= 600000) :\n",
        "        return 'Grande'\n",
        "    else:\n",
        "        return 'Metrópole'\n",
        "\n",
        "tamanho = float(input('Entre com a população = '))\n",
        "a = cidade(tamanho)\n",
        "print('++++++ Categoria da cidade ++++++\\n')\n",
        "print(a)"
      ],
      "metadata": {
        "colab": {
          "base_uri": "https://localhost:8080/"
        },
        "id": "sOe5ftnL3R-S",
        "outputId": "6f3bfac5-19cd-47dc-d1a2-2d5c7efeb77a"
      },
      "execution_count": 9,
      "outputs": [
        {
          "output_type": "stream",
          "name": "stdout",
          "text": [
            "Entre com a população = 175000\n",
            "++++++ Categoria da cidade ++++++\n",
            "\n",
            "Grande\n"
          ]
        }
      ]
    },
    {
      "cell_type": "markdown",
      "source": [
        "##Exemplo 5.6"
      ],
      "metadata": {
        "id": "M-vQ2Qe_3ezc"
      }
    },
    {
      "cell_type": "code",
      "source": [
        "# Exemplo 5.6\n",
        "\n",
        "import math\n",
        "\n",
        "def delta(a, b, c):\n",
        "    delta = b**2 - 4 * a * c\n",
        "    if (delta > 0):\n",
        "        x1 = (- b + math.sqrt(delta)) / (2 * a)\n",
        "        x2 = (- b - math.sqrt(delta)) / (2 * a)\n",
        "        return x1, x2\n",
        "    elif (delta == 0):\n",
        "        x1 = -b/(2 * a)\n",
        "        return x1\n",
        "    else:\n",
        "        return 'Não existem raízes reaís.'\n",
        "\n",
        "\n",
        "a = float(input('a = '))\n",
        "b = float(input('b = '))\n",
        "c = float(input('c = '))\n",
        "resp = delta(a, b, c)\n",
        "print('++++++ Solução da eq. 2º. grau ++++++\\n')\n",
        "print(resp)"
      ],
      "metadata": {
        "colab": {
          "base_uri": "https://localhost:8080/"
        },
        "id": "NRD15dad8rid",
        "outputId": "f13523d4-d07c-4d3b-9714-88da095f747d"
      },
      "execution_count": 12,
      "outputs": [
        {
          "output_type": "stream",
          "name": "stdout",
          "text": [
            "a = 1\n",
            "b = -5\n",
            "c = 6\n",
            "++++++ Solução da eq. 2º. grau ++++++\n",
            "\n",
            "(3.0, 2.0)\n"
          ]
        }
      ]
    },
    {
      "cell_type": "markdown",
      "source": [
        "##Exemplo 5.7"
      ],
      "metadata": {
        "id": "_zjxH60dfUa9"
      }
    },
    {
      "cell_type": "code",
      "source": [
        "# Biblioteca das minhas funções\n",
        "\n",
        "#Programa com duas funcoes para media e desvioP\n",
        "import statistics as stat\n",
        "\n",
        "def media(lista):\n",
        "          x = stat.mean(lista)\n",
        "          return(x)\n",
        "\n",
        "def desvio(lista):\n",
        "    y = stat.pstdev(lista)\n",
        "    return(y)"
      ],
      "metadata": {
        "id": "B46Z2VaA8c8H"
      },
      "execution_count": 10,
      "outputs": []
    },
    {
      "cell_type": "code",
      "source": [
        "# Exemplo 5.7\n",
        "\n",
        "#Programa principal para chamar func. ext.\n",
        "\n",
        "import Bib\n",
        "\n",
        "numeros = [1, 10, 3, 2, 1, 5, 5, 4, 0, 1, 2]\n",
        "resp1 = Bib.media(numeros)\n",
        "resp2 = Bib.desvio(numeros)\n",
        "\n",
        "print('+++++++ Respostas ++++++')\n",
        "print('Média = ', resp1, ' desvio padrão = ', resp2)"
      ],
      "metadata": {
        "id": "Px7WDQ-O8lyf"
      },
      "execution_count": null,
      "outputs": []
    },
    {
      "cell_type": "markdown",
      "source": [
        "#Exercícios 5.4"
      ],
      "metadata": {
        "id": "pvrqPEEzJuqh"
      }
    },
    {
      "cell_type": "markdown",
      "source": [
        "##Exercício 1"
      ],
      "metadata": {
        "id": "eUVGeJd-Jzc6"
      }
    },
    {
      "cell_type": "code",
      "source": [
        "# Exercícios 5.4\n",
        "# 1\n",
        "# Minha solução\n",
        "\n",
        "def soma(a, b):\n",
        "    sma = a + b\n",
        "    return sma\n",
        "\n",
        "#+++++++++++++++++ Aqui começa o programa principal ++++++++++++++++++++++++++\n",
        "\n",
        "a = int(input('Digíte o parametro A = '))\n",
        "b = int(input('Digíte o parametro B = '))\n",
        "print('Soma =', soma(a, b))"
      ],
      "metadata": {
        "colab": {
          "base_uri": "https://localhost:8080/"
        },
        "id": "EGzPnM549GfU",
        "outputId": "c967cc75-dbc3-4c5a-8745-fb87820c8a88"
      },
      "execution_count": 15,
      "outputs": [
        {
          "output_type": "stream",
          "name": "stdout",
          "text": [
            "Digíte o parametro A = 10\n",
            "Digíte o parametro B = 4\n",
            "Soma = 14\n"
          ]
        }
      ]
    },
    {
      "cell_type": "markdown",
      "source": [
        "##Exercício 2"
      ],
      "metadata": {
        "id": "_XNe2iV69ZJp"
      }
    },
    {
      "cell_type": "code",
      "source": [
        "# Exercícios 5.4\n",
        "# 2\n",
        "# Minha solução\n",
        "\n",
        "def calculo(a,b,c):\n",
        "    y = a**3 - a * b + b**2 - b*c\n",
        "    return y\n",
        "\n",
        "#+++++++++++++++++ Aqui começa o programa principal ++++++++++++++++++++++++++\n",
        "\n",
        "a = int(input('Digíte o parametro A = '))\n",
        "b = int(input('Digíte o parametro B = '))\n",
        "c = int(input('Digíte o parametro C = '))\n",
        "\n",
        "print('Resultado =', calculo(a, b, c))"
      ],
      "metadata": {
        "colab": {
          "base_uri": "https://localhost:8080/"
        },
        "id": "ubqDy9lf9QvS",
        "outputId": "d24e18f4-616b-4f1b-cdb1-a1cb9625f5bc"
      },
      "execution_count": 16,
      "outputs": [
        {
          "output_type": "stream",
          "name": "stdout",
          "text": [
            "Digíte o parametro A = 1\n",
            "Digíte o parametro B = 2\n",
            "Digíte o parametro C = 3\n",
            "Resultado = -3\n"
          ]
        }
      ]
    },
    {
      "cell_type": "markdown",
      "source": [
        "##Exercício 3"
      ],
      "metadata": {
        "id": "b66XViqQ9u3m"
      }
    },
    {
      "cell_type": "code",
      "source": [
        "# Exercícios 5.4\n",
        "# 3\n",
        "# Minha solução\n",
        "\n",
        "import math\n",
        "\n",
        "def calculo(a,b):\n",
        "    y = math.sqrt(a**2 + b**2) - math.sin(a) + math.cos(a + b)\n",
        "    return y\n",
        "\n",
        "#+++++++++++++++++ Aqui começa o programa principal ++++++++++++++++++++++++++\n",
        "a = float(input('Digíte o parametro A = '))\n",
        "b = float(input('Digíte o parametro B = '))\n",
        "\n",
        "print('Resultado =', calculo(a, b))"
      ],
      "metadata": {
        "colab": {
          "base_uri": "https://localhost:8080/"
        },
        "id": "pZKhYvPS9xH8",
        "outputId": "6ec88a0a-3dc4-4c7b-8b2e-69c6ccbeee23"
      },
      "execution_count": 18,
      "outputs": [
        {
          "output_type": "stream",
          "name": "stdout",
          "text": [
            "Digíte o parametro A = 0.5\n",
            "Digíte o parametro B = 0.7\n",
            "Resultado = 0.7431647425767333\n"
          ]
        }
      ]
    },
    {
      "cell_type": "markdown",
      "source": [
        "##Exercício 4"
      ],
      "metadata": {
        "id": "4F-PZh8i-ojD"
      }
    },
    {
      "cell_type": "code",
      "source": [
        "# Exercícios 5.4\n",
        "# 4\n",
        "# Minha solução\n",
        "\n",
        "def calculo(x,y):\n",
        "    if x >= y:\n",
        "        z = x + y\n",
        "        return z\n",
        "    elif x < y:\n",
        "        z = x - y\n",
        "        return z\n",
        "\n",
        "#+++++++++++++++++ Aqui começa o programa principal ++++++++++++++++++++++++++\n",
        "X = int(input('Digíte o parametro X = '))\n",
        "Y = int(input('Digíte o parametro Y = '))\n",
        "\n",
        "print('Resultado =', calculo(X, Y))"
      ],
      "metadata": {
        "colab": {
          "base_uri": "https://localhost:8080/"
        },
        "id": "YMrjK7e--JbW",
        "outputId": "f1caa99b-d4b2-45dc-cdcf-6022bc0bd015"
      },
      "execution_count": 19,
      "outputs": [
        {
          "output_type": "stream",
          "name": "stdout",
          "text": [
            "Digíte o parametro X = 10\n",
            "Digíte o parametro Y = 4\n",
            "Resultado = 14\n"
          ]
        }
      ]
    },
    {
      "cell_type": "markdown",
      "source": [
        "##Exercício 5"
      ],
      "metadata": {
        "id": "aXJfD3Oj-0Q3"
      }
    },
    {
      "cell_type": "code",
      "source": [
        "# Exercícios 5.4\n",
        "# 5\n",
        "# Minha solução\n",
        "\n",
        "def contagem(lista):\n",
        "    if len(lista) > 4:\n",
        "        return lista[-1]\n",
        "    elif len(lista) < 4:\n",
        "        return lista[0]\n",
        "\n",
        "#+++++++++++++++++ Aqui começa o programa principal ++++++++++++++++++++++++++\n",
        "lista = ['banana','abacate','maçã','goiaba','morango','abacaxi']\n",
        "\n",
        "print(contagem(lista))"
      ],
      "metadata": {
        "colab": {
          "base_uri": "https://localhost:8080/"
        },
        "id": "MCWZjKUb-t_Q",
        "outputId": "aabab3b6-e38b-4a6b-9b41-8ee1bea8a8f2"
      },
      "execution_count": 20,
      "outputs": [
        {
          "output_type": "stream",
          "name": "stdout",
          "text": [
            "abacaxi\n"
          ]
        }
      ]
    },
    {
      "cell_type": "markdown",
      "source": [
        "##Exercício 6"
      ],
      "metadata": {
        "id": "4ppTEkSn-8T4"
      }
    },
    {
      "cell_type": "code",
      "source": [
        "# Exercícios 5.4\n",
        "# 6\n",
        "# Minha solução\n",
        "\n",
        "def encontrarIndex(encontrar, lis):\n",
        "    index = lis.index(str(encontrar))\n",
        "    return index\n",
        "\n",
        "\n",
        "#+++++++++++++++++ Aqui começa o programa principal ++++++++++++++++++++++++++\n",
        "lista = ['dow','ibov','ftse','dax','nasdaq','cac']\n",
        "\n",
        "n = input('Digite nome para encontrar índice = ')\n",
        "print(encontrarIndex(n, lista))"
      ],
      "metadata": {
        "colab": {
          "base_uri": "https://localhost:8080/"
        },
        "id": "-UnDXW-H-5ZA",
        "outputId": "d686c1ba-be94-4d97-a677-ceb814e7d3eb"
      },
      "execution_count": 22,
      "outputs": [
        {
          "output_type": "stream",
          "name": "stdout",
          "text": [
            "Digite nome para encontrar índice = nasdaq\n",
            "4\n"
          ]
        }
      ]
    },
    {
      "cell_type": "markdown",
      "source": [
        "##Exercício 7"
      ],
      "metadata": {
        "id": "OhCjnRPd_vnW"
      }
    },
    {
      "cell_type": "code",
      "source": [
        "# Exercícios 5.4\n",
        "# 7\n",
        "# Minha solução\n",
        "\n",
        "def removerIndex(encontrar, lis):\n",
        "    lis.remove(str(encontrar))\n",
        "    return lis\n",
        "\n",
        "#+++++++++++++++++ Aqui começa o programa principal ++++++++++++++++++++++++++\n",
        "lista = ['dow','ibov','ftse','dax','nasdaq','cac']\n",
        "\n",
        "n = input('Digite nome para encontrar índice = ')\n",
        "print(removerIndex(n, lista))"
      ],
      "metadata": {
        "colab": {
          "base_uri": "https://localhost:8080/"
        },
        "id": "ACVUhEYi_BiE",
        "outputId": "8199b387-ab24-42ef-941a-43a43ff95be1"
      },
      "execution_count": 23,
      "outputs": [
        {
          "output_type": "stream",
          "name": "stdout",
          "text": [
            "Digite nome para encontrar índice = cac\n",
            "['dow', 'ibov', 'ftse', 'dax', 'nasdaq']\n"
          ]
        }
      ]
    },
    {
      "cell_type": "markdown",
      "source": [
        "##Exercício 8"
      ],
      "metadata": {
        "id": "yZuLqltrBXe-"
      }
    },
    {
      "cell_type": "code",
      "source": [
        "# Exercícios 5.4\n",
        "# 8\n",
        "# Minha solução\n",
        "\n",
        "def repeticao(valor,lista):\n",
        "    total = lista.count(valor)\n",
        "    return total\n",
        "\n",
        "#+++++++++++++++++ Aqui começa o programa principal ++++++++++++++++++++++++++\n",
        "\n",
        "Num = [3,3,4,1,2,1,1,2,3,4,4,1,1,5,2]\n",
        "\n",
        "cont = int(input('Digite número a ser contado = '))\n",
        "\n",
        "print(repeticao(cont, Num))"
      ],
      "metadata": {
        "colab": {
          "base_uri": "https://localhost:8080/"
        },
        "id": "3sLOBcxxBP9Z",
        "outputId": "8881a63d-96e1-4db7-a830-1f1a65feb919"
      },
      "execution_count": 24,
      "outputs": [
        {
          "output_type": "stream",
          "name": "stdout",
          "text": [
            "Digite número a ser contado =1\n",
            "5\n"
          ]
        }
      ]
    },
    {
      "cell_type": "markdown",
      "source": [
        "##Exercício 9"
      ],
      "metadata": {
        "id": "teZ_0AcbBqr1"
      }
    },
    {
      "cell_type": "code",
      "source": [
        "# Exercícios 5.4\n",
        "# 9\n",
        "# Biblioteca Minhas Funções\n",
        "\n",
        "import statistics as st\n",
        "import numpy as ny\n",
        "\n",
        "def media(lista1, lista2):\n",
        "    M_lista1 =  st.median(lista1)\n",
        "    M_lista2 = st.median(lista2)\n",
        "    return M_lista1, M_lista2\n",
        "\n",
        "def desvio(lista1, lista2):\n",
        "    M_lista1 =  st.stdev(lista1)\n",
        "    M_lista2 = st.stdev(lista2)\n",
        "    return M_lista1, M_lista2\n",
        "\n",
        "def retornos(lista1, lista2):\n",
        "    arr1 = ny.array(lista1)\n",
        "    arr2 = ny.array(lista2)\n",
        "\n",
        "    nret1 = len(lista1)\n",
        "    nret2 = len(lista2)\n",
        "\n",
        "    retorno1 = (arr1[1:nret1] - arr1[0:nret1-1] / arr1[0:nret1-1])\n",
        "    retorno2 = (arr2[1:nret2] - arr2[0:nret2-1] / arr2[0:nret2-1])\n",
        "    return retorno1, retorno2\n",
        "\n",
        "def maximo(lista1, lista2):\n",
        "    list1 = max(lista1)\n",
        "    list2 = max(lista2)\n",
        "    return list1, list2"
      ],
      "metadata": {
        "id": "11dklXlzB0Sr"
      },
      "execution_count": null,
      "outputs": []
    },
    {
      "cell_type": "code",
      "source": [
        "# Exercícios 5.4\n",
        "# 9\n",
        "# Minha solução\n",
        "\n",
        "import Minhas_Funções as MF\n",
        "\n",
        "PETR4 = [9.72, 10.69, 11.82, 12.93, 12.92, 12.82, 13.64, 13.79, 13.78, 13.08,\n",
        "         12.67, 12.83]\n",
        "\n",
        "PETRF42 = [0.2, 0.46, 0.82, 1.38, 1.46, 1.24, 1.69, 1.75, 1.6, 1.02, 0.64, 0.58]\n",
        "\n",
        "print('Média de cada lista', MF.media(PETR4,PETRF42))\n",
        "print('Desvio-padrão de cada lista', MF.desvio(PETR4,PETRF42))\n",
        "print('Retornos de cada lista', MF.retornos(PETR4,PETRF42))\n",
        "print('Maximo de cada lista', MF.maximo(PETR4,PETRF42))"
      ],
      "metadata": {
        "id": "ywqTV3iOBb28"
      },
      "execution_count": 25,
      "outputs": []
    }
  ]
}